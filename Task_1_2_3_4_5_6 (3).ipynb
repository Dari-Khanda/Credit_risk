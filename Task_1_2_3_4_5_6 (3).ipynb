{
 "cells": [
  {
   "cell_type": "code",
   "execution_count": 1,
   "metadata": {},
   "outputs": [],
   "source": [
    "%load_ext autoreload\n",
    "%autoreload 2\n",
    "\n",
    "import os\n",
    "import sys\n",
    "import time\n",
    "import pickle\n",
    "\n",
    "import matplotlib.pyplot as plt\n",
    "import numpy as np\n",
    "import pandas as pd\n",
    "from sklearn import preprocessing as sk_preprocessing\n",
    "from sklearn.model_selection import train_test_split\n",
    "from sklearn.linear_model import LogisticRegression\n",
    "from sklearn.preprocessing import LabelEncoder\n",
    "from sklearn.metrics import roc_auc_score\n",
    "from tqdm import tqdm_notebook\n",
    "from xverse.transformer import MonotonicBinning\n",
    "from category_encoders.woe import WOEEncoder\n",
    "\n",
    "\n",
    "RM_PROJECT_LIB_PATH = \"../risk-management-project2\"\n",
    "if RM_PROJECT_LIB_PATH not in sys.path:\n",
    "    sys.path.append(RM_PROJECT_LIB_PATH)\n",
    "import project_lib\n",
    "from project_lib.default_stats import simulate_total_loss"
   ]
  },
  {
   "cell_type": "code",
   "execution_count": 2,
   "metadata": {},
   "outputs": [
    {
     "name": "stderr",
     "output_type": "stream",
     "text": [
      "/Users/nialeksandrov/virtualenvs/risks/lib/python3.7/site-packages/IPython/core/interactiveshell.py:3063: DtypeWarning: Columns (7,36) have mixed types.Specify dtype option on import or set low_memory=False.\n",
      "  interactivity=interactivity, compiler=compiler, result=result)\n"
     ]
    }
   ],
   "source": [
    "TRAIN_DATA = pd.read_csv('../data/train.csv')\n",
    "TEST_DATA = pd.read_csv(\"../data/val.csv\")"
   ]
  },
  {
   "cell_type": "code",
   "execution_count": 3,
   "metadata": {},
   "outputs": [],
   "source": [
    "TRAIN_DATA['ts'] = pd.to_datetime(TRAIN_DATA.issue_d)\n",
    "TEST_DATA['ts'] = pd.to_datetime(TEST_DATA.issue_d)\n",
    "\n",
    "TRAIN_DATA = TRAIN_DATA.sort_values('ts').reset_index().drop('index', axis=1)\n",
    "TEST_DATA = TEST_DATA.sort_values('ts').reset_index().drop('index', axis=1)\n",
    "\n",
    "TRAIN_DATA.drop('ts', axis=1, inplace=True)\n",
    "TEST_DATA.drop('ts', axis=1, inplace=True)"
   ]
  },
  {
   "cell_type": "code",
   "execution_count": 4,
   "metadata": {},
   "outputs": [],
   "source": [
    "# TRAIN_DATA.issue_d = pd.to_datetime(TRAIN_DATA.issue_d)\n",
    "# TEST_DATA.issue_d = pd.to_datetime(TEST_DATA.issue_d)\n",
    "# TRAIN_DATA = TRAIN_DATA.sort_values('issue_d').reset_index().drop('index', axis=1)\n",
    "# TEST_DATA = TEST_DATA.sort_values('issue_d').reset_index().drop('index', axis=1)"
   ]
  },
  {
   "cell_type": "markdown",
   "metadata": {},
   "source": [
    "# Задача 1"
   ]
  },
  {
   "cell_type": "markdown",
   "metadata": {},
   "source": [
    "Задача - построить интерпретируемый скоринг. Для этого:"
   ]
  },
  {
   "cell_type": "code",
   "execution_count": 5,
   "metadata": {},
   "outputs": [],
   "source": [
    "TASK1_PIKLES_FOLDER = \"../pickles/task_1\""
   ]
  },
  {
   "cell_type": "code",
   "execution_count": 6,
   "metadata": {},
   "outputs": [
    {
     "name": "stdout",
     "output_type": "stream",
     "text": [
      "Remove all_util because it have more than 20% (72.0) of NaNs\n",
      "Remove annual_inc_joint because it have more than 20% (99.0) of NaNs\n",
      "Remove desc because it have more than 20% (89.0) of NaNs\n",
      "Remove dti_joint because it have more than 20% (99.0) of NaNs\n",
      "Remove il_util because it have more than 20% (76.0) of NaNs\n",
      "Remove inq_fi because it have more than 20% (72.0) of NaNs\n",
      "Remove inq_last_12m because it have more than 20% (72.0) of NaNs\n",
      "Remove member_id because it have more than 20% (100.0) of NaNs\n",
      "Remove verification_status_joint because it have more than 20% (99.0) of NaNs\n",
      "Drop columns ['id', 'policy_code', 'zip_code']\n",
      "Fill annual_inc NaNs with rolling mean\n",
      "Fill avg_cur_bal NaNs with rolling mean\n",
      "Fill dti NaNs with rolling mean\n",
      "Fill inq_last_6mths NaNs with rolling mean\n",
      "Fill pub_rec NaNs with rolling mean\n",
      "Fill pub_rec_bankruptcies NaNs with rolling mean\n",
      "Fill tax_liens NaNs with rolling mean\n",
      "Fill emp_length NaNs with 'unk'\n",
      "Fill emp_title NaNs with 'unk'\n",
      "Fill title NaNs with 'unk'\n"
     ]
    }
   ],
   "source": [
    "TRAIN_FULL_WOE = TRAIN_DATA.copy()\n",
    "TEST_WOE = TEST_DATA.copy()\n",
    "\n",
    "TRAIN_FULL_WOE = TRAIN_FULL_WOE.drop([\"issue_d\", \"earliest_cr_line\"], axis=1)\n",
    "TEST_WOE = TEST_WOE.drop([\"issue_d\", \"earliest_cr_line\"], axis=1)\n",
    "\n",
    "TRAIN_FULL_WOE = project_lib.preprocessing.prepare_data(TRAIN_FULL_WOE)"
   ]
  },
  {
   "cell_type": "code",
   "execution_count": 7,
   "metadata": {
    "colab": {
     "base_uri": "https://localhost:8080/",
     "height": 309
    },
    "colab_type": "code",
    "id": "7OjpyxGzYvWM",
    "outputId": "026e305f-dcfb-4ab1-bb57-be7c1f125ff3"
   },
   "outputs": [
    {
     "name": "stdout",
     "output_type": "stream",
     "text": [
      "Remove annual_inc_joint because it have more than 20% (91.0) of NaNs\n",
      "Remove desc because it have more than 20% (100.0) of NaNs\n",
      "Remove dti_joint because it have more than 20% (91.0) of NaNs\n",
      "Remove member_id because it have more than 20% (100.0) of NaNs\n",
      "Remove verification_status_joint because it have more than 20% (91.0) of NaNs\n",
      "Drop columns ['id', 'policy_code', 'zip_code']\n",
      "Fill all_util NaNs with rolling mean\n",
      "Fill avg_cur_bal NaNs with rolling mean\n",
      "Fill dti NaNs with rolling mean\n",
      "Fill il_util NaNs with rolling mean\n",
      "Fill emp_length NaNs with 'unk'\n",
      "Fill emp_title NaNs with 'unk'\n"
     ]
    }
   ],
   "source": [
    "TEST_WOE = project_lib.preprocessing.prepare_data(TEST_WOE)"
   ]
  },
  {
   "cell_type": "code",
   "execution_count": 8,
   "metadata": {},
   "outputs": [],
   "source": [
    "# for col_name in TEST_WOE.columns:\n",
    "#     TEST_WOE.loc[TEST_WOE.loc[:, col_name].isna(), col_name] = TEST_WOE.loc[:, col_name].mode()"
   ]
  },
  {
   "cell_type": "code",
   "execution_count": 9,
   "metadata": {},
   "outputs": [],
   "source": [
    "TRAIN_FULL_WOE.dropna(inplace=True)\n",
    "TEST_WOE.dropna(inplace=True)"
   ]
  },
  {
   "cell_type": "code",
   "execution_count": null,
   "metadata": {},
   "outputs": [],
   "source": []
  },
  {
   "cell_type": "markdown",
   "metadata": {},
   "source": [
    "## 1.a"
   ]
  },
  {
   "cell_type": "markdown",
   "metadata": {
    "colab_type": "text",
    "id": "Zhqfd1Knnyx3"
   },
   "source": [
    "С помощью библиотеки xverse преобразуем непрерывные переменные на интервалы, преобразовав их в ординальные с помощью функции MonotonicBinning"
   ]
  },
  {
   "cell_type": "code",
   "execution_count": 10,
   "metadata": {
    "colab": {},
    "colab_type": "code",
    "id": "fZi_9kaPv_oH"
   },
   "outputs": [],
   "source": [
    "target_col_name = \"default\"\n",
    "real_features_names = list(TRAIN_FULL_WOE.select_dtypes(np.number).columns)\n",
    "cat_features_names = list(TRAIN_FULL_WOE.select_dtypes(\"object\").columns)\n",
    "cat_features_names.remove(\"emp_title\")\n",
    "cat_features_names.remove(\"title\")\n",
    "all_features_names = real_features_names + cat_features_names"
   ]
  },
  {
   "cell_type": "code",
   "execution_count": 11,
   "metadata": {},
   "outputs": [],
   "source": [
    "res = train_test_split(TRAIN_FULL_WOE.loc[:, all_features_names], TRAIN_FULL_WOE.loc[:, target_col_name], \n",
    "                       test_size=0.25, shuffle=False)\n",
    "TRAIN_TRAIN_WOE, TRAIN_VAL_WOE, TRAIN_TRAIN_WOE_TARGET, TRAIN_VAL_WOE_TARGET = res\n",
    "TEST_WOE, TEST_WOE_TARGET = TEST_WOE.loc[:, all_features_names], TEST_WOE.loc[:, target_col_name]\n",
    "TRAIN_FULL_WOE, TRAIN_FULL_WOE_TARGET = TRAIN_FULL_WOE.loc[:, all_features_names],\\\n",
    "                                        TRAIN_FULL_WOE.loc[:, target_col_name]"
   ]
  },
  {
   "cell_type": "code",
   "execution_count": 12,
   "metadata": {
    "colab": {
     "base_uri": "https://localhost:8080/",
     "height": 136
    },
    "colab_type": "code",
    "id": "h8yccvnYGyem",
    "outputId": "fd397609-6b03-4951-e01e-5db3d3cdf91e"
   },
   "outputs": [],
   "source": [
    "real_features_binner = MonotonicBinning(force_bins=10, feature_names=list(real_features_names))\n",
    "TRAIN_TRAIN_WOE = real_features_binner.fit_transform(TRAIN_TRAIN_WOE, TRAIN_TRAIN_WOE_TARGET)\n",
    "TRAIN_VAL_WOE = real_features_binner.transform(TRAIN_VAL_WOE)\n",
    "TEST_WOE = real_features_binner.transform(TEST_WOE)\n",
    "TRAIN_FULL_WOE =real_features_binner.fit_transform(TRAIN_FULL_WOE, TRAIN_FULL_WOE_TARGET)"
   ]
  },
  {
   "cell_type": "markdown",
   "metadata": {},
   "source": [
    "Заполним пропуски самыми популряными катеоргиями"
   ]
  },
  {
   "cell_type": "code",
   "execution_count": 13,
   "metadata": {},
   "outputs": [],
   "source": [
    "most_popular_values = TRAIN_TRAIN_WOE.mode(axis=0)\n",
    "for feature_name in TRAIN_TRAIN_WOE.columns:\n",
    "    most_popular_value = most_popular_values[feature_name][0]\n",
    "    \n",
    "    is_na_in_test = TRAIN_VAL_WOE.loc[:, feature_name].isna()\n",
    "    if is_na_in_test.any():\n",
    "        TRAIN_VAL_WOE.loc[is_na_in_test, feature_name] = most_popular_value\n",
    "        \n",
    "    is_na_in_final_test = TEST_WOE.loc[:, feature_name].isna()\n",
    "    if is_na_in_final_test.any():\n",
    "        TEST_WOE.loc[is_na_in_final_test, feature_name] = most_popular_value"
   ]
  },
  {
   "cell_type": "code",
   "execution_count": 14,
   "metadata": {
    "scrolled": false
   },
   "outputs": [
    {
     "data": {
      "application/vnd.jupyter.widget-view+json": {
       "model_id": "db2001b1a423474a92cc4c3811e0b99c",
       "version_major": 2,
       "version_minor": 0
      },
      "text/plain": [
       "HBox(children=(FloatProgress(value=0.0, max=21.0), HTML(value='')))"
      ]
     },
     "metadata": {},
     "output_type": "display_data"
    },
    {
     "name": "stdout",
     "output_type": "stream",
     "text": [
      "\n"
     ]
    }
   ],
   "source": [
    "for feature_name in tqdm_notebook(all_features_names):\n",
    "    label_encoder = LabelEncoder()\n",
    "    TRAIN_TRAIN_WOE.loc[:, feature_name] = label_encoder.fit_transform(TRAIN_TRAIN_WOE.loc[:, feature_name])\n",
    "    TRAIN_VAL_WOE.loc[:, feature_name] = label_encoder.transform(TRAIN_VAL_WOE.loc[:, feature_name])\n",
    "    TEST_WOE.loc[:, feature_name] = label_encoder.transform(TEST_WOE.loc[:, feature_name])\n",
    "    \n",
    "    label_encoder = LabelEncoder()\n",
    "    TRAIN_FULL_WOE.loc[:, feature_name] = label_encoder.fit_transform(TRAIN_FULL_WOE.loc[:, feature_name])"
   ]
  },
  {
   "cell_type": "code",
   "execution_count": 15,
   "metadata": {},
   "outputs": [
    {
     "name": "stderr",
     "output_type": "stream",
     "text": [
      "../risk-management-project2/project_lib/utils.py:83: RuntimeWarning: divide by zero encountered in double_scalars\n",
      "  return np.log(fraction_of_non_events / fraction_of_events)\n"
     ]
    }
   ],
   "source": [
    "train_data_for_iv = TRAIN_FULL_WOE.copy()\n",
    "woe_encoder = project_lib.utils.VanillaWoe()\n",
    "woe_encoder.fit(train_data_for_iv, TRAIN_FULL_WOE_TARGET)\n",
    "train_data_for_iv = woe_encoder.transform(train_data_for_iv)"
   ]
  },
  {
   "cell_type": "code",
   "execution_count": 16,
   "metadata": {
    "scrolled": true
   },
   "outputs": [],
   "source": [
    "woe_encoder = WOEEncoder(cols=TRAIN_TRAIN_WOE.columns)\n",
    "woe_encoder.fit(TRAIN_TRAIN_WOE, TRAIN_TRAIN_WOE_TARGET)\n",
    "TRAIN_VAL_WOE = woe_encoder.transform(TRAIN_VAL_WOE)\n",
    "\n",
    "woe_encoder.fit(TRAIN_TRAIN_WOE, TRAIN_TRAIN_WOE_TARGET)\n",
    "TEST_WOE = woe_encoder.transform(TEST_WOE)\n",
    "\n",
    "TRAIN_TRAIN_WOE = project_lib.task1_utils.encode_train_data_with_woe(TRAIN_TRAIN_WOE, TRAIN_TRAIN_WOE_TARGET)\n",
    "TRAIN_FULL_WOE = project_lib.task1_utils.encode_train_data_with_woe(TRAIN_FULL_WOE, TRAIN_FULL_WOE_TARGET)"
   ]
  },
  {
   "cell_type": "code",
   "execution_count": 17,
   "metadata": {
    "scrolled": false
   },
   "outputs": [
    {
     "data": {
      "application/vnd.jupyter.widget-view+json": {
       "model_id": "0ca8cd0bd5be4b66b27e165252f87ae4",
       "version_major": 2,
       "version_minor": 0
      },
      "text/plain": [
       "HBox(children=(FloatProgress(value=0.0, max=21.0), HTML(value='')))"
      ]
     },
     "metadata": {},
     "output_type": "display_data"
    },
    {
     "name": "stdout",
     "output_type": "stream",
     "text": [
      "\n"
     ]
    },
    {
     "data": {
      "text/html": [
       "<div>\n",
       "<style scoped>\n",
       "    .dataframe tbody tr th:only-of-type {\n",
       "        vertical-align: middle;\n",
       "    }\n",
       "\n",
       "    .dataframe tbody tr th {\n",
       "        vertical-align: top;\n",
       "    }\n",
       "\n",
       "    .dataframe thead th {\n",
       "        text-align: right;\n",
       "    }\n",
       "</style>\n",
       "<table border=\"1\" class=\"dataframe\">\n",
       "  <thead>\n",
       "    <tr style=\"text-align: right;\">\n",
       "      <th></th>\n",
       "      <th>Information Value</th>\n",
       "    </tr>\n",
       "  </thead>\n",
       "  <tbody>\n",
       "    <tr>\n",
       "      <th>int_rate</th>\n",
       "      <td>0.452599</td>\n",
       "    </tr>\n",
       "    <tr>\n",
       "      <th>term</th>\n",
       "      <td>0.207414</td>\n",
       "    </tr>\n",
       "    <tr>\n",
       "      <th>fico_range_high</th>\n",
       "      <td>0.115846</td>\n",
       "    </tr>\n",
       "    <tr>\n",
       "      <th>fico_range_low</th>\n",
       "      <td>0.115846</td>\n",
       "    </tr>\n",
       "    <tr>\n",
       "      <th>dti</th>\n",
       "      <td>0.0753507</td>\n",
       "    </tr>\n",
       "    <tr>\n",
       "      <th>verification_status</th>\n",
       "      <td>0.0531599</td>\n",
       "    </tr>\n",
       "    <tr>\n",
       "      <th>avg_cur_bal</th>\n",
       "      <td>0.0478452</td>\n",
       "    </tr>\n",
       "    <tr>\n",
       "      <th>funded_amnt</th>\n",
       "      <td>0.0325512</td>\n",
       "    </tr>\n",
       "    <tr>\n",
       "      <th>annual_inc</th>\n",
       "      <td>0.0295156</td>\n",
       "    </tr>\n",
       "    <tr>\n",
       "      <th>home_ownership</th>\n",
       "      <td>0.0281266</td>\n",
       "    </tr>\n",
       "    <tr>\n",
       "      <th>installment</th>\n",
       "      <td>0.0256391</td>\n",
       "    </tr>\n",
       "    <tr>\n",
       "      <th>purpose</th>\n",
       "      <td>0.0182206</td>\n",
       "    </tr>\n",
       "    <tr>\n",
       "      <th>inq_last_6mths</th>\n",
       "      <td>0.0172284</td>\n",
       "    </tr>\n",
       "    <tr>\n",
       "      <th>addr_state</th>\n",
       "      <td>0.0158265</td>\n",
       "    </tr>\n",
       "    <tr>\n",
       "      <th>emp_length</th>\n",
       "      <td>0.0094478</td>\n",
       "    </tr>\n",
       "    <tr>\n",
       "      <th>disbursement_method</th>\n",
       "      <td>0.00202677</td>\n",
       "    </tr>\n",
       "    <tr>\n",
       "      <th>pub_rec</th>\n",
       "      <td>0.00130594</td>\n",
       "    </tr>\n",
       "    <tr>\n",
       "      <th>pub_rec_bankruptcies</th>\n",
       "      <td>0.000678079</td>\n",
       "    </tr>\n",
       "    <tr>\n",
       "      <th>application_type</th>\n",
       "      <td>0.000619724</td>\n",
       "    </tr>\n",
       "    <tr>\n",
       "      <th>initial_list_status</th>\n",
       "      <td>0.000414759</td>\n",
       "    </tr>\n",
       "    <tr>\n",
       "      <th>tax_liens</th>\n",
       "      <td>0.00021358</td>\n",
       "    </tr>\n",
       "  </tbody>\n",
       "</table>\n",
       "</div>"
      ],
      "text/plain": [
       "                     Information Value\n",
       "int_rate                      0.452599\n",
       "term                          0.207414\n",
       "fico_range_high               0.115846\n",
       "fico_range_low                0.115846\n",
       "dti                          0.0753507\n",
       "verification_status          0.0531599\n",
       "avg_cur_bal                  0.0478452\n",
       "funded_amnt                  0.0325512\n",
       "annual_inc                   0.0295156\n",
       "home_ownership               0.0281266\n",
       "installment                  0.0256391\n",
       "purpose                      0.0182206\n",
       "inq_last_6mths               0.0172284\n",
       "addr_state                   0.0158265\n",
       "emp_length                   0.0094478\n",
       "disbursement_method         0.00202677\n",
       "pub_rec                     0.00130594\n",
       "pub_rec_bankruptcies       0.000678079\n",
       "application_type           0.000619724\n",
       "initial_list_status        0.000414759\n",
       "tax_liens                   0.00021358"
      ]
     },
     "execution_count": 17,
     "metadata": {},
     "output_type": "execute_result"
    }
   ],
   "source": [
    "train_data_for_iv[\"target\"] = TRAIN_FULL_WOE_TARGET\n",
    "def calc_iv(x, total_events_amount, total_non_events_amount):\n",
    "    events_amount = x.sum()\n",
    "    non_events_amount = x.shape[0] - events_amount\n",
    "    fraction_of_events = events_amount / total_events_amount\n",
    "    fraction_of_non_events = non_events_amount / total_non_events_amount\n",
    "    iv = (fraction_of_non_events - fraction_of_events)\n",
    "    iv = iv * x.name\n",
    "    if np.isinf(iv):\n",
    "        return 0\n",
    "    else:\n",
    "        return iv\n",
    "\n",
    "information_values = pd.DataFrame(index=train_data_for_iv.columns[:-1], columns=[\"Information Value\"])\n",
    "total_events_amount = train_data_for_iv[\"target\"].sum()\n",
    "total_non_events_amount = train_data_for_iv.shape[0] - total_events_amount\n",
    "for col_name in tqdm_notebook(information_values.index):\n",
    "    iv = train_data_for_iv.groupby([col_name])[\"target\"]\\\n",
    "                          .apply(calc_iv, total_events_amount, total_non_events_amount).sum()\n",
    "    information_values.loc[col_name, \"Information Value\"] = iv\n",
    "\n",
    "train_data_for_iv.drop([\"target\"], axis=1, inplace=True)\n",
    "information_values.sort_values(\"Information Value\", ascending=False)"
   ]
  },
  {
   "cell_type": "markdown",
   "metadata": {},
   "source": [
    "Вычислим коэффициент Джини для каждого фактора"
   ]
  },
  {
   "cell_type": "code",
   "execution_count": 18,
   "metadata": {},
   "outputs": [
    {
     "data": {
      "application/vnd.jupyter.widget-view+json": {
       "model_id": "392e2649c83d44a4a533e07b9894e53d",
       "version_major": 2,
       "version_minor": 0
      },
      "text/plain": [
       "HBox(children=(FloatProgress(value=0.0, max=21.0), HTML(value='')))"
      ]
     },
     "metadata": {},
     "output_type": "display_data"
    },
    {
     "name": "stdout",
     "output_type": "stream",
     "text": [
      "\n"
     ]
    },
    {
     "data": {
      "text/html": [
       "<div>\n",
       "<style scoped>\n",
       "    .dataframe tbody tr th:only-of-type {\n",
       "        vertical-align: middle;\n",
       "    }\n",
       "\n",
       "    .dataframe tbody tr th {\n",
       "        vertical-align: top;\n",
       "    }\n",
       "\n",
       "    .dataframe thead th {\n",
       "        text-align: right;\n",
       "    }\n",
       "</style>\n",
       "<table border=\"1\" class=\"dataframe\">\n",
       "  <thead>\n",
       "    <tr style=\"text-align: right;\">\n",
       "      <th></th>\n",
       "      <th>Gini Train</th>\n",
       "      <th>Gini Test</th>\n",
       "    </tr>\n",
       "  </thead>\n",
       "  <tbody>\n",
       "    <tr>\n",
       "      <th>int_rate</th>\n",
       "      <td>0.343266</td>\n",
       "      <td>0.351791</td>\n",
       "    </tr>\n",
       "    <tr>\n",
       "      <th>fico_range_high</th>\n",
       "      <td>0.175109</td>\n",
       "      <td>0.18784</td>\n",
       "    </tr>\n",
       "    <tr>\n",
       "      <th>fico_range_low</th>\n",
       "      <td>0.175109</td>\n",
       "      <td>0.18784</td>\n",
       "    </tr>\n",
       "    <tr>\n",
       "      <th>dti</th>\n",
       "      <td>0.159798</td>\n",
       "      <td>0.147043</td>\n",
       "    </tr>\n",
       "    <tr>\n",
       "      <th>term</th>\n",
       "      <td>0.242361</td>\n",
       "      <td>0.145828</td>\n",
       "    </tr>\n",
       "    <tr>\n",
       "      <th>avg_cur_bal</th>\n",
       "      <td>0.101506</td>\n",
       "      <td>0.131197</td>\n",
       "    </tr>\n",
       "    <tr>\n",
       "      <th>verification_status</th>\n",
       "      <td>0.0900337</td>\n",
       "      <td>0.130544</td>\n",
       "    </tr>\n",
       "    <tr>\n",
       "      <th>home_ownership</th>\n",
       "      <td>0.0781958</td>\n",
       "      <td>0.108563</td>\n",
       "    </tr>\n",
       "    <tr>\n",
       "      <th>annual_inc</th>\n",
       "      <td>0.0951251</td>\n",
       "      <td>0.101197</td>\n",
       "    </tr>\n",
       "    <tr>\n",
       "      <th>funded_amnt</th>\n",
       "      <td>0.0969975</td>\n",
       "      <td>0.0871483</td>\n",
       "    </tr>\n",
       "    <tr>\n",
       "      <th>installment</th>\n",
       "      <td>0.0738662</td>\n",
       "      <td>0.0860697</td>\n",
       "    </tr>\n",
       "    <tr>\n",
       "      <th>addr_state</th>\n",
       "      <td>0.0614436</td>\n",
       "      <td>0.0588561</td>\n",
       "    </tr>\n",
       "    <tr>\n",
       "      <th>purpose</th>\n",
       "      <td>0.0481681</td>\n",
       "      <td>0.0573565</td>\n",
       "    </tr>\n",
       "    <tr>\n",
       "      <th>inq_last_6mths</th>\n",
       "      <td>0.0798421</td>\n",
       "      <td>0.0492599</td>\n",
       "    </tr>\n",
       "    <tr>\n",
       "      <th>emp_length</th>\n",
       "      <td>0.0314843</td>\n",
       "      <td>0.0468544</td>\n",
       "    </tr>\n",
       "    <tr>\n",
       "      <th>initial_list_status</th>\n",
       "      <td>0.032535</td>\n",
       "      <td>0.0367487</td>\n",
       "    </tr>\n",
       "    <tr>\n",
       "      <th>pub_rec</th>\n",
       "      <td>0.0505882</td>\n",
       "      <td>0.00673518</td>\n",
       "    </tr>\n",
       "    <tr>\n",
       "      <th>disbursement_method</th>\n",
       "      <td>0.0492879</td>\n",
       "      <td>0.00517473</td>\n",
       "    </tr>\n",
       "    <tr>\n",
       "      <th>pub_rec_bankruptcies</th>\n",
       "      <td>0.0501138</td>\n",
       "      <td>0.00212936</td>\n",
       "    </tr>\n",
       "    <tr>\n",
       "      <th>tax_liens</th>\n",
       "      <td>0.0490378</td>\n",
       "      <td>0.0018538</td>\n",
       "    </tr>\n",
       "    <tr>\n",
       "      <th>application_type</th>\n",
       "      <td>0.0491685</td>\n",
       "      <td>0.00159369</td>\n",
       "    </tr>\n",
       "  </tbody>\n",
       "</table>\n",
       "</div>"
      ],
      "text/plain": [
       "                     Gini Train   Gini Test\n",
       "int_rate               0.343266    0.351791\n",
       "fico_range_high        0.175109     0.18784\n",
       "fico_range_low         0.175109     0.18784\n",
       "dti                    0.159798    0.147043\n",
       "term                   0.242361    0.145828\n",
       "avg_cur_bal            0.101506    0.131197\n",
       "verification_status   0.0900337    0.130544\n",
       "home_ownership        0.0781958    0.108563\n",
       "annual_inc            0.0951251    0.101197\n",
       "funded_amnt           0.0969975   0.0871483\n",
       "installment           0.0738662   0.0860697\n",
       "addr_state            0.0614436   0.0588561\n",
       "purpose               0.0481681   0.0573565\n",
       "inq_last_6mths        0.0798421   0.0492599\n",
       "emp_length            0.0314843   0.0468544\n",
       "initial_list_status    0.032535   0.0367487\n",
       "pub_rec               0.0505882  0.00673518\n",
       "disbursement_method   0.0492879  0.00517473\n",
       "pub_rec_bankruptcies  0.0501138  0.00212936\n",
       "tax_liens             0.0490378   0.0018538\n",
       "application_type      0.0491685  0.00159369"
      ]
     },
     "execution_count": 18,
     "metadata": {},
     "output_type": "execute_result"
    }
   ],
   "source": [
    "features_gini_scores = pd.DataFrame(index=TRAIN_TRAIN_WOE.columns, columns=[\"Gini Train\", \"Gini Test\"])\n",
    "for col_name in tqdm_notebook(TRAIN_TRAIN_WOE.columns):\n",
    "    file_path = os.path.join(TASK1_PIKLES_FOLDER, f\"{col_name}_small_lr.pkl\")\n",
    "    X_train = TRAIN_TRAIN_WOE.loc[:, col_name].to_numpy(copy=True).reshape(-1, 1)\n",
    "    model = project_lib.utils.fit_or_upload_logistic_regression(file_path, X_train, TRAIN_TRAIN_WOE_TARGET)\n",
    "    \n",
    "    y_train_predicted = model.predict_proba(TRAIN_TRAIN_WOE.loc[:, col_name].to_numpy(copy=True)\\\n",
    "                                                           .reshape(-1, 1))[:, 1]\n",
    "    train_gini = project_lib.metrics.gini_score(TRAIN_TRAIN_WOE_TARGET, y_train_predicted)\n",
    "    y_test_predicted = model.predict_proba(TRAIN_VAL_WOE.loc[:, col_name].to_numpy(copy=True)\\\n",
    "                                                        .reshape(-1, 1))[:, 1]\n",
    "    test_gini = project_lib.metrics.gini_score(TRAIN_VAL_WOE_TARGET, y_test_predicted)\n",
    "    \n",
    "    features_gini_scores.loc[col_name, \"Gini Train\"] = train_gini\n",
    "    features_gini_scores.loc[col_name, \"Gini Test\"] = test_gini\n",
    "features_gini_scores.sort_values([\"Gini Test\"], ascending=False)"
   ]
  },
  {
   "cell_type": "markdown",
   "metadata": {},
   "source": [
    "# 1. b/c"
   ]
  },
  {
   "cell_type": "code",
   "execution_count": 19,
   "metadata": {},
   "outputs": [],
   "source": [
    "initial_features = features_gini_scores[\"Gini Test\"].sort_values(ascending=False).index"
   ]
  },
  {
   "cell_type": "code",
   "execution_count": 20,
   "metadata": {},
   "outputs": [
    {
     "data": {
      "application/vnd.jupyter.widget-view+json": {
       "model_id": "2b54a38f8ffc4c158a53de90f060550a",
       "version_major": 2,
       "version_minor": 0
      },
      "text/plain": [
       "HBox(children=(FloatProgress(value=0.0, max=20.0), HTML(value='')))"
      ]
     },
     "metadata": {},
     "output_type": "display_data"
    },
    {
     "name": "stdout",
     "output_type": "stream",
     "text": [
      "removing application_type feature improved score\n",
      "cur score - 0.40336538964994206\n",
      "\n"
     ]
    }
   ],
   "source": [
    "backward_features = project_lib.model_selection.backward_lr(TRAIN_TRAIN_WOE, TRAIN_TRAIN_WOE_TARGET, \n",
    "                                                            TRAIN_VAL_WOE, TRAIN_VAL_WOE_TARGET, \n",
    "                                                            TASK1_PIKLES_FOLDER, initial_features, \"small_lr\")"
   ]
  },
  {
   "cell_type": "code",
   "execution_count": 21,
   "metadata": {},
   "outputs": [
    {
     "data": {
      "application/vnd.jupyter.widget-view+json": {
       "model_id": "524583c971da44e8b6afa19c98c1b6b7",
       "version_major": 2,
       "version_minor": 0
      },
      "text/plain": [
       "HBox(children=(FloatProgress(value=0.0, max=21.0), HTML(value='')))"
      ]
     },
     "metadata": {},
     "output_type": "display_data"
    },
    {
     "name": "stdout",
     "output_type": "stream",
     "text": [
      "including int_rate feature improved score. Cur set of features: ['int_rate']\n",
      "cur score - 0.35179071483728164\n",
      "including fico_range_high feature improved score. Cur set of features: ['int_rate', 'fico_range_high']\n",
      "cur score - 0.36282254040130524\n",
      "including dti feature improved score. Cur set of features: ['int_rate', 'fico_range_high', 'fico_range_low', 'dti']\n",
      "cur score - 0.36441206905415013\n",
      "including term feature improved score. Cur set of features: ['int_rate', 'fico_range_high', 'fico_range_low', 'dti', 'term']\n",
      "cur score - 0.37129770511402915\n",
      "including avg_cur_bal feature improved score. Cur set of features: ['int_rate', 'fico_range_high', 'fico_range_low', 'dti', 'term', 'avg_cur_bal']\n",
      "cur score - 0.38406639880559434\n",
      "including verification_status feature improved score. Cur set of features: ['int_rate', 'fico_range_high', 'fico_range_low', 'dti', 'term', 'avg_cur_bal', 'verification_status']\n",
      "cur score - 0.38618167944698323\n",
      "including home_ownership feature improved score. Cur set of features: ['int_rate', 'fico_range_high', 'fico_range_low', 'dti', 'term', 'avg_cur_bal', 'verification_status', 'home_ownership']\n",
      "cur score - 0.38962857701689435\n",
      "including annual_inc feature improved score. Cur set of features: ['int_rate', 'fico_range_high', 'fico_range_low', 'dti', 'term', 'avg_cur_bal', 'verification_status', 'home_ownership', 'annual_inc']\n",
      "cur score - 0.3900637522198438\n",
      "including funded_amnt feature improved score. Cur set of features: ['int_rate', 'fico_range_high', 'fico_range_low', 'dti', 'term', 'avg_cur_bal', 'verification_status', 'home_ownership', 'annual_inc', 'funded_amnt']\n",
      "cur score - 0.39251465760499826\n",
      "including installment feature improved score. Cur set of features: ['int_rate', 'fico_range_high', 'fico_range_low', 'dti', 'term', 'avg_cur_bal', 'verification_status', 'home_ownership', 'annual_inc', 'funded_amnt', 'installment']\n",
      "cur score - 0.39275044522573554\n",
      "including addr_state feature improved score. Cur set of features: ['int_rate', 'fico_range_high', 'fico_range_low', 'dti', 'term', 'avg_cur_bal', 'verification_status', 'home_ownership', 'annual_inc', 'funded_amnt', 'installment', 'addr_state']\n",
      "cur score - 0.3965260981823835\n",
      "including purpose feature improved score. Cur set of features: ['int_rate', 'fico_range_high', 'fico_range_low', 'dti', 'term', 'avg_cur_bal', 'verification_status', 'home_ownership', 'annual_inc', 'funded_amnt', 'installment', 'addr_state', 'purpose']\n",
      "cur score - 0.3965404625714377\n",
      "including inq_last_6mths feature improved score. Cur set of features: ['int_rate', 'fico_range_high', 'fico_range_low', 'dti', 'term', 'avg_cur_bal', 'verification_status', 'home_ownership', 'annual_inc', 'funded_amnt', 'installment', 'addr_state', 'purpose', 'inq_last_6mths']\n",
      "cur score - 0.397404697784159\n",
      "including emp_length feature improved score. Cur set of features: ['int_rate', 'fico_range_high', 'fico_range_low', 'dti', 'term', 'avg_cur_bal', 'verification_status', 'home_ownership', 'annual_inc', 'funded_amnt', 'installment', 'addr_state', 'purpose', 'inq_last_6mths', 'emp_length']\n",
      "cur score - 0.4015858353499122\n",
      "including initial_list_status feature improved score. Cur set of features: ['int_rate', 'fico_range_high', 'fico_range_low', 'dti', 'term', 'avg_cur_bal', 'verification_status', 'home_ownership', 'annual_inc', 'funded_amnt', 'installment', 'addr_state', 'purpose', 'inq_last_6mths', 'emp_length', 'initial_list_status']\n",
      "cur score - 0.4020786467546613\n",
      "including disbursement_method feature improved score. Cur set of features: ['int_rate', 'fico_range_high', 'fico_range_low', 'dti', 'term', 'avg_cur_bal', 'verification_status', 'home_ownership', 'annual_inc', 'funded_amnt', 'installment', 'addr_state', 'purpose', 'inq_last_6mths', 'emp_length', 'initial_list_status', 'pub_rec', 'disbursement_method']\n",
      "cur score - 0.40336267831608263\n",
      "including pub_rec_bankruptcies feature improved score. Cur set of features: ['int_rate', 'fico_range_high', 'fico_range_low', 'dti', 'term', 'avg_cur_bal', 'verification_status', 'home_ownership', 'annual_inc', 'funded_amnt', 'installment', 'addr_state', 'purpose', 'inq_last_6mths', 'emp_length', 'initial_list_status', 'pub_rec', 'disbursement_method', 'pub_rec_bankruptcies']\n",
      "cur score - 0.4033649652817015\n",
      "including tax_liens feature improved score. Cur set of features: ['int_rate', 'fico_range_high', 'fico_range_low', 'dti', 'term', 'avg_cur_bal', 'verification_status', 'home_ownership', 'annual_inc', 'funded_amnt', 'installment', 'addr_state', 'purpose', 'inq_last_6mths', 'emp_length', 'initial_list_status', 'pub_rec', 'disbursement_method', 'pub_rec_bankruptcies', 'tax_liens']\n",
      "cur score - 0.40336538964994206\n",
      "\n"
     ]
    }
   ],
   "source": [
    "forward_features = project_lib.model_selection.forward_lr(TRAIN_TRAIN_WOE, TRAIN_TRAIN_WOE_TARGET, \n",
    "                                                          TRAIN_VAL_WOE, TRAIN_VAL_WOE_TARGET, \n",
    "                                                          TASK1_PIKLES_FOLDER, initial_features, \"small_lr\")"
   ]
  },
  {
   "cell_type": "code",
   "execution_count": 22,
   "metadata": {},
   "outputs": [
    {
     "name": "stdout",
     "output_type": "stream",
     "text": [
      "# backward features - 20\n",
      "# forward features - 20\n"
     ]
    }
   ],
   "source": [
    "print(f'# backward features - {len(backward_features)}')\n",
    "print(f'# forward features - {len(forward_features)}')\n",
    "LR_FEATURES = forward_features.copy()"
   ]
  },
  {
   "cell_type": "markdown",
   "metadata": {},
   "source": [
    "На основании Information Value, значений индивидуального коэффициента Gini оставим фичи ['int_rate', 'fico_range_high', 'fico_range_low', 'dti', 'term', 'avg_cur_bal', 'verification_status', 'home_ownership', 'annual_inc', 'funded_amnt', 'installment'], потому что после installment - слишком маленькие значения IV и Gini, а также в forward selection - нет значимого прироста в качестве. "
   ]
  },
  {
   "cell_type": "code",
   "execution_count": 23,
   "metadata": {},
   "outputs": [],
   "source": [
    "LR_FEATURES = ['int_rate', 'fico_range_high', 'fico_range_low', 'dti', 'term', 'avg_cur_bal',\n",
    "               'verification_status', 'home_ownership', 'annual_inc', 'funded_amnt', 'installment']"
   ]
  },
  {
   "cell_type": "markdown",
   "metadata": {},
   "source": [
    "Оба подхода отобрали одинаковое кол-во признаков (все). Означает, что каждый признак важен в некоторой степени"
   ]
  },
  {
   "cell_type": "markdown",
   "metadata": {},
   "source": [
    "## Оценим лучшую модель на отложенной и тестовой выборке"
   ]
  },
  {
   "cell_type": "code",
   "execution_count": 24,
   "metadata": {},
   "outputs": [
    {
     "name": "stdout",
     "output_type": "stream",
     "text": [
      " Полученный Gini:  0.3697\n"
     ]
    }
   ],
   "source": [
    "file_path = project_lib.utils.create_model_file_path(TRAIN_TRAIN_WOE.columns, LR_FEATURES, TASK1_PIKLES_FOLDER,\n",
    "                                                     \"small_lr\")\n",
    "TRAIN_TRAIN_LR_MODEL = project_lib.utils.fit_or_upload_logistic_regression(file_path, \n",
    "                                                                           TRAIN_TRAIN_WOE.loc[:, LR_FEATURES], \n",
    "                                                                           TRAIN_TRAIN_WOE_TARGET)\n",
    "predicts_val_logreg = TRAIN_TRAIN_LR_MODEL.predict_proba(TEST_WOE.loc[:, LR_FEATURES])\n",
    "gini_score = project_lib.metrics.gini_score(TEST_WOE_TARGET, predicts_val_logreg[:, 1])\n",
    "print(f' Полученный Gini: {gini_score : .4f}')"
   ]
  },
  {
   "cell_type": "code",
   "execution_count": 25,
   "metadata": {},
   "outputs": [
    {
     "name": "stdout",
     "output_type": "stream",
     "text": [
      " Полученный Gini:  0.3723\n"
     ]
    }
   ],
   "source": [
    "file_path = project_lib.utils.create_model_file_path(TRAIN_FULL_WOE.columns, LR_FEATURES, TASK1_PIKLES_FOLDER,\n",
    "                                                     \"full_lr\")\n",
    "TRAIN_FULL_LR_MODEL = project_lib.utils.fit_or_upload_logistic_regression(file_path, \n",
    "                                                                          TRAIN_FULL_WOE.loc[:, LR_FEATURES], \n",
    "                                                                          TRAIN_FULL_WOE_TARGET)\n",
    "predicts_val_logreg = TRAIN_FULL_LR_MODEL.predict_proba(TEST_WOE.loc[:, LR_FEATURES])\n",
    "gini_score = project_lib.metrics.gini_score(TEST_WOE_TARGET, predicts_val_logreg[:, 1])\n",
    "print(f' Полученный Gini: {gini_score : .4f}')"
   ]
  },
  {
   "cell_type": "markdown",
   "metadata": {},
   "source": [
    "Outputs"
   ]
  },
  {
   "cell_type": "code",
   "execution_count": 26,
   "metadata": {},
   "outputs": [],
   "source": [
    "temp = (TRAIN_TRAIN_WOE, TRAIN_VAL_WOE, LR_FEATURES, TRAIN_TRAIN_LR_MODEL, TRAIN_FULL_LR_MODEL, TRAIN_FULL_WOE, \n",
    "        TEST_WOE, TRAIN_TRAIN_WOE_TARGET, TRAIN_VAL_WOE_TARGET, TEST_WOE_TARGET)"
   ]
  },
  {
   "cell_type": "markdown",
   "metadata": {},
   "source": [
    "# Задание 2"
   ]
  },
  {
   "cell_type": "markdown",
   "metadata": {},
   "source": [
    "В качестве альтернативной модели будем использовать градиентный бустинг над решающими деревьями в имплементации бибилотеки Catboost с последующей калибровкой прогнозов."
   ]
  },
  {
   "cell_type": "code",
   "execution_count": 27,
   "metadata": {},
   "outputs": [],
   "source": [
    "import catboost"
   ]
  },
  {
   "cell_type": "code",
   "execution_count": 28,
   "metadata": {},
   "outputs": [],
   "source": [
    "train_pd = TRAIN_DATA.copy(deep=True)"
   ]
  },
  {
   "cell_type": "markdown",
   "metadata": {},
   "source": [
    "## Анализ данных"
   ]
  },
  {
   "cell_type": "code",
   "execution_count": 29,
   "metadata": {},
   "outputs": [
    {
     "name": "stdout",
     "output_type": "stream",
     "text": [
      "addr_state : 51\n",
      "all_util : 166\n",
      "annual_inc : 57517\n",
      "annual_inc_joint : 1640\n",
      "application_type : 2\n",
      "avg_cur_bal : 72303\n",
      "default : 2\n",
      "desc : 124408\n",
      "disbursement_method : 2\n",
      "dti : 5276\n",
      "dti_joint : 2444\n",
      "earliest_cr_line : 716\n",
      "emp_length : 12\n",
      "emp_title : 345417\n",
      "fico_range_high : 48\n",
      "fico_range_low : 48\n",
      "funded_amnt : 1511\n",
      "home_ownership : 6\n",
      "id : 1128702\n",
      "il_util : 221\n",
      "initial_list_status : 2\n",
      "inq_fi : 30\n",
      "inq_last_12m : 39\n",
      "inq_last_6mths : 29\n",
      "installment : 77068\n",
      "int_rate : 595\n",
      "issue_d : 115\n",
      "member_id : 1\n",
      "policy_code : 1\n",
      "pub_rec : 39\n",
      "pub_rec_bankruptcies : 13\n",
      "purpose : 14\n",
      "tax_liens : 37\n",
      "term : 2\n",
      "title : 63155\n",
      "verification_status : 3\n",
      "verification_status_joint : 2\n",
      "zip_code : 942\n"
     ]
    }
   ],
   "source": [
    "for col in train_pd.columns:\n",
    "    print(f'{col} : {len(train_pd[col].unique())}')"
   ]
  },
  {
   "cell_type": "code",
   "execution_count": 30,
   "metadata": {},
   "outputs": [],
   "source": [
    "cat_features = ['zip_code', 'verification_status_joint', 'verification_status', 'term', 'tax_liens', 'purpose',\n",
    "                'initial_list_status', 'home_ownership', 'disbursement_method', 'addr_state', 'application_type',\n",
    "                'emp_length', 'issue_d_month', 'earliest_cr_line_month']\n",
    "text_features = ['title', 'emp_title', 'desc']"
   ]
  },
  {
   "cell_type": "code",
   "execution_count": 31,
   "metadata": {},
   "outputs": [],
   "source": [
    "def prepare_cols_with_dates(df):\n",
    "    df.earliest_cr_line.fillna('nan-nan', inplace=True)\n",
    "    for col in ['issue_d', 'earliest_cr_line']:\n",
    "        month_year =  df[col].apply(lambda x: x.split('-'))\n",
    "        month_year = pd.DataFrame(month_year.tolist(), columns=[f'{col}_month', f'{col}_year'])\n",
    "        df = pd.concat([df, month_year], axis=1)\n",
    "        df.drop([col], axis=1, inplace=True)\n",
    "    return df\n",
    "\n",
    "def fillna_cats(df, cat_features):\n",
    "    for cat_feature in cat_features:\n",
    "        df[cat_feature] = df[cat_feature].fillna('NaN')\n",
    "        df[cat_feature] = df[cat_feature].astype('str')\n",
    "    df.drop(text_features, axis=1, inplace=True)\n",
    "    return df"
   ]
  },
  {
   "cell_type": "code",
   "execution_count": 32,
   "metadata": {},
   "outputs": [],
   "source": [
    "TRAIN_FULL_CATBOOST = train_pd.copy(deep=True)"
   ]
  },
  {
   "cell_type": "code",
   "execution_count": 33,
   "metadata": {},
   "outputs": [],
   "source": [
    "TRAIN_FULL_CATBOOST = prepare_cols_with_dates(TRAIN_FULL_CATBOOST)\n",
    "TRAIN_FULL_CATBOOST = fillna_cats(TRAIN_FULL_CATBOOST, cat_features)"
   ]
  },
  {
   "cell_type": "markdown",
   "metadata": {},
   "source": [
    "## Разделим датасет для обучения модели и ее калибровки "
   ]
  },
  {
   "cell_type": "code",
   "execution_count": 34,
   "metadata": {},
   "outputs": [],
   "source": [
    "class catboost_calibration():\n",
    "    def __init__(self, catboost_model, logreg_model):\n",
    "        self.catboost_model = catboost_model\n",
    "        self.logreg_model = logreg_model\n",
    "        \n",
    "    def predict_proba(self, X_test):\n",
    "        predict_calibration = self.catboost_model.predict_proba(X_test)\n",
    "        return self.logreg_model.predict_proba(\n",
    "            predict_calibration[:, 1].reshape(-1, 1))"
   ]
  },
  {
   "cell_type": "code",
   "execution_count": 35,
   "metadata": {},
   "outputs": [],
   "source": [
    "TRAIN_TRAIN_CATBOOST = TRAIN_FULL_CATBOOST[:TRAIN_TRAIN_WOE.index.max()]\n",
    "TRAIN_VAL_CATBOOST = TRAIN_FULL_CATBOOST[TRAIN_TRAIN_WOE.index.max():]"
   ]
  },
  {
   "cell_type": "code",
   "execution_count": 36,
   "metadata": {
    "scrolled": true
   },
   "outputs": [],
   "source": [
    "def fit_catboost_with_calibration(train_dataset : pd.DataFrame,\n",
    "                                  cat_features: list) -> tuple([catboost.CatBoostClassifier,\n",
    "                                                                        LogisticRegression]):\n",
    "    train_dataset = train_dataset.copy(deep=True)\n",
    "    X_train, X_test_for_calibration, y_train, y_test_for_calibration = train_test_split(\n",
    "    train_dataset.drop('default', axis=1),\n",
    "    train_dataset.default, \n",
    "    test_size=0.1,\n",
    "    random_state=42,\n",
    "    shuffle=False\n",
    "    )\n",
    "    \n",
    "    model = catboost.CatBoostClassifier(cat_features=cat_features,\n",
    "                                    class_weights=[1.0, X_train.shape[0]/y_train.sum()],\n",
    "                                    random_state=42,\n",
    "                                    depth=4,\n",
    "                                    l2_leaf_reg=20,\n",
    "                                    learning_rate=0.05,\n",
    "                                    random_strength = 5,\n",
    "                                    bagging_temperature=5)\n",
    "\n",
    "    model.fit(X_train, #примерное вреия выполнения -- 10 минут\n",
    "              y=y_train,\n",
    "              verbose=False,\n",
    "              cat_features=cat_features)\n",
    "    predict_calibration = model.predict_proba(X_test_for_calibration)\n",
    "    LR = LogisticRegression(random_state=42, solver='lbfgs')\n",
    "    LR.fit(predict_calibration[:, 1].reshape(-1, 1), y_test_for_calibration)\n",
    " \n",
    "    return model, LR"
   ]
  },
  {
   "cell_type": "code",
   "execution_count": 37,
   "metadata": {
    "scrolled": true
   },
   "outputs": [
    {
     "name": "stderr",
     "output_type": "stream",
     "text": [
      "/Users/nialeksandrov/virtualenvs/risks/lib/python3.7/site-packages/sklearn/utils/deprecation.py:144: FutureWarning: The sklearn.linear_model.logistic module is  deprecated in version 0.22 and will be removed in version 0.24. The corresponding classes / functions should instead be imported from sklearn.linear_model. Anything that cannot be imported from sklearn.linear_model is now part of the private API.\n",
      "  warnings.warn(message, FutureWarning)\n",
      "/Users/nialeksandrov/virtualenvs/risks/lib/python3.7/site-packages/sklearn/base.py:318: UserWarning: Trying to unpickle estimator LogisticRegression from version 0.21.3 when using version 0.22.2.post1. This might lead to breaking code or invalid results. Use at your own risk.\n",
      "  UserWarning)\n"
     ]
    }
   ],
   "source": [
    "try:\n",
    "    with open('../pickles/catboost/TRAIN_TRAIN_CATBOOST_MODEL.model', 'rb') as f:\n",
    "        TRAIN_TRAIN_CATBOOST_MODEL = pickle.load(f)\n",
    "except:\n",
    "    train_catboost, train_lr = fit_catboost_with_calibration(TRAIN_TRAIN_CATBOOST, cat_features)\n",
    "    pickle.dump(train_catboost, open('../pickles/catboost/train_catboost.model', 'wb'))\n",
    "    pickle.dump(train_lr, open('../pickles/catboost/train_lr.model', 'wb'))\n",
    "    \n",
    "    TRAIN_TRAIN_CATBOOST_MODEL = catboost_calibration(train_catboost, train_lr)\n",
    "    pickle.dump(TRAIN_TRAIN_CATBOOST_MODEL,\n",
    "            open('../pickles/catboost/TRAIN_TRAIN_CATBOOST_MODEL.model', 'wb'))"
   ]
  },
  {
   "cell_type": "code",
   "execution_count": 38,
   "metadata": {},
   "outputs": [],
   "source": [
    "try:\n",
    "    with open('../pickles/catboost/TRAIN_FULL_CATBOOST_MODEL.model', 'rb') as f:\n",
    "        TRAIN_FULL_CATBOOST_MODEL = pickle.load(f)\n",
    "    with open('../pickles/catboost/full_catboost.model', 'rb') as f:\n",
    "        full_catboost = pickle.load(f)\n",
    "except:\n",
    "    full_catboost, full_lr = fit_catboost_with_calibration(TRAIN_FULL_CATBOOST, cat_features)\n",
    "    pickle.dump(full_catboost, open('../pickles/catboost/full_catboost.model', 'wb'))\n",
    "    pickle.dump(full_lr, open('../pickles/catboost/full_lr.model', 'wb'))\n",
    "    \n",
    "    TRAIN_FULL_CATBOOST_MODEL = catboost_calibration(full_catboost, full_lr)    \n",
    "    pickle.dump(TRAIN_FULL_CATBOOST_MODEL,\n",
    "            open('../pickles/catboost/TRAIN_FULL_CATBOOST_MODEL.model', 'wb'))"
   ]
  },
  {
   "cell_type": "markdown",
   "metadata": {},
   "source": [
    "## Оценим модель на валидационной выборке"
   ]
  },
  {
   "cell_type": "code",
   "execution_count": 39,
   "metadata": {},
   "outputs": [],
   "source": [
    "TEST_CATBOOST = TEST_DATA.copy(deep=True)"
   ]
  },
  {
   "cell_type": "code",
   "execution_count": 40,
   "metadata": {},
   "outputs": [],
   "source": [
    "TEST_CATBOOST = prepare_cols_with_dates(TEST_CATBOOST)\n",
    "TEST_CATBOOST = fillna_cats(TEST_CATBOOST, cat_features)"
   ]
  },
  {
   "cell_type": "code",
   "execution_count": 41,
   "metadata": {},
   "outputs": [],
   "source": [
    "X_test_val = TEST_CATBOOST.drop('default', axis=1)\n",
    "y_test_val = TEST_CATBOOST.default"
   ]
  },
  {
   "cell_type": "code",
   "execution_count": 42,
   "metadata": {
    "scrolled": true
   },
   "outputs": [],
   "source": [
    "predict_cal = TRAIN_FULL_CATBOOST_MODEL.predict_proba(X_test_val)"
   ]
  },
  {
   "cell_type": "code",
   "execution_count": 43,
   "metadata": {},
   "outputs": [],
   "source": [
    "predict_val = full_catboost.predict_proba(X_test_val)"
   ]
  },
  {
   "cell_type": "code",
   "execution_count": 44,
   "metadata": {},
   "outputs": [
    {
     "name": "stdout",
     "output_type": "stream",
     "text": [
      " Полученный Gini:  0.4212\n"
     ]
    }
   ],
   "source": [
    "print(f' Полученный Gini: {project_lib.metrics.gini_score(y_test_val, predict_cal[:, 1]) : .4f}')"
   ]
  },
  {
   "cell_type": "code",
   "execution_count": 45,
   "metadata": {},
   "outputs": [],
   "source": [
    "from sklearn.calibration import calibration_curve\n",
    "from matplotlib import pyplot as plt"
   ]
  },
  {
   "cell_type": "code",
   "execution_count": 46,
   "metadata": {},
   "outputs": [
    {
     "data": {
      "text/plain": [
       "Text(0.5, 1.0, 'Calibration plots  (reliability curve)')"
      ]
     },
     "execution_count": 46,
     "metadata": {},
     "output_type": "execute_result"
    }
   ],
   "source": [
    "fraction_of_positives, mean_predicted_value = \\\n",
    "    calibration_curve(y_test_val, predict_val[:, 1], n_bins=8)\n",
    "\n",
    "plt.figure(figsize = (15, 10))\n",
    "plt.plot(mean_predicted_value, fraction_of_positives, \"s-\", label='catboost')\n",
    "\n",
    "fraction_of_positives, mean_predicted_value = \\\n",
    "    calibration_curve(y_test_val, predict_cal[:, 1], n_bins=8)\n",
    "plt.plot(mean_predicted_value, fraction_of_positives, \"s-\", label='calibration')\n",
    "\n",
    "plt.plot([0, 1], [0, 1], \"k:\", label=\"Perfectly calibrated\")\n",
    "\n",
    "\n",
    "plt.ylabel(\"Fraction of positives\")\n",
    "plt.ylim([-0.05, 1.05])\n",
    "plt.legend(loc=\"lower right\")\n",
    "plt.title('Calibration plots  (reliability curve)')"
   ]
  },
  {
   "cell_type": "markdown",
   "metadata": {
    "heading_collapsed": true
   },
   "source": [
    "# Задание 3"
   ]
  },
  {
   "cell_type": "markdown",
   "metadata": {
    "hidden": true
   },
   "source": [
    "На основе построенных моделей постройте модель оценки внутренних рейтингов (выделите не меньше 7 не-дефолтных рейтинговых категорий).\n",
    "\n",
    "a. Проще всего это сделать разбиением предсказания модели на интервалы.\n",
    "\n",
    "b. Оцените вероятности дефолта для каждого внутреннего рейтинга вместе с доверительными интервалами. Также оцените общую дефолтность по всей выборке\n",
    "вместе с доверительным интервалом.\n",
    "\n",
    "c. Стоит ли объединить какие-нибудь рейтинговые категории из построенных в одну?\n",
    "Почему?"
   ]
  },
  {
   "cell_type": "markdown",
   "metadata": {
    "hidden": true
   },
   "source": [
    "Возьмем наши предикты на валидации:"
   ]
  },
  {
   "cell_type": "markdown",
   "metadata": {
    "hidden": true
   },
   "source": [
    "В качестве не-дефолтных категорий будем рассматривать категории с вероятностью дефолта выше 50%."
   ]
  },
  {
   "cell_type": "markdown",
   "metadata": {
    "hidden": true
   },
   "source": [
    "Даже после калибровки моделей confidence в прогнозах будет отличаться, поэтому более правильно будет использовать две линейки категорий (под каждую из моделей)."
   ]
  },
  {
   "cell_type": "code",
   "execution_count": 47,
   "metadata": {
    "hidden": true
   },
   "outputs": [],
   "source": [
    "import string"
   ]
  },
  {
   "cell_type": "code",
   "execution_count": 48,
   "metadata": {
    "hidden": true
   },
   "outputs": [],
   "source": [
    "def calculate_category(score: float, cutted_bins) -> str:\n",
    "    idx = (cutted_bins > score).argmax()\n",
    "    if idx == 0:\n",
    "        return string.ascii_uppercase[0]\n",
    "    else:\n",
    "        return string.ascii_uppercase[len(cutted_bins) - idx - 1]\n",
    "    return string.ascii_uppercase[idx]"
   ]
  },
  {
   "cell_type": "code",
   "execution_count": 49,
   "metadata": {
    "hidden": true
   },
   "outputs": [],
   "source": [
    "def calculate_new_category(score: float, cutted_bins, labels) -> str:\n",
    "    labels = labels[::-1]\n",
    "    cutted_bins = cutted_bins[::-1]\n",
    "    idx = (cutted_bins > score).argmax()\n",
    "    if score > cutted_bins[-1]:\n",
    "        return labels[-1]\n",
    "    return labels[idx]"
   ]
  },
  {
   "cell_type": "markdown",
   "metadata": {
    "hidden": true
   },
   "source": [
    "## Посчитаем для первой модели"
   ]
  },
  {
   "cell_type": "code",
   "execution_count": 50,
   "metadata": {
    "hidden": true
   },
   "outputs": [],
   "source": [
    "y_test_val = TEST_WOE_TARGET"
   ]
  },
  {
   "cell_type": "code",
   "execution_count": 51,
   "metadata": {
    "hidden": true,
    "scrolled": true
   },
   "outputs": [],
   "source": [
    "df_for_category_logreg = pd.DataFrame(\n",
    "            {'predict_proba': predicts_val_logreg[:, 0], 'default': y_test_val}\n",
    ")"
   ]
  },
  {
   "cell_type": "code",
   "execution_count": 52,
   "metadata": {
    "hidden": true
   },
   "outputs": [],
   "source": [
    "df_for_category_logreg = df_for_category_logreg[df_for_category_logreg.predict_proba > 0.5] #вероятность не-дефолта = 1 - вероятность дефолта"
   ]
  },
  {
   "cell_type": "code",
   "execution_count": 53,
   "metadata": {
    "hidden": true
   },
   "outputs": [],
   "source": [
    "bins = 15\n",
    "df_for_category_logreg[\"bins\"], cutted_bins = pd.cut(\n",
    "    df_for_category_logreg[\"predict_proba\"], \n",
    "    bins = bins, retbins=True)\n",
    "df_for_category_logreg['category'] = df_for_category_logreg.bins.cat.rename_categories(\n",
    "      reversed(list(string.ascii_uppercase)[:bins]))"
   ]
  },
  {
   "cell_type": "code",
   "execution_count": 54,
   "metadata": {
    "hidden": true
   },
   "outputs": [
    {
     "data": {
      "text/html": [
       "<div>\n",
       "<style scoped>\n",
       "    .dataframe tbody tr th:only-of-type {\n",
       "        vertical-align: middle;\n",
       "    }\n",
       "\n",
       "    .dataframe tbody tr th {\n",
       "        vertical-align: top;\n",
       "    }\n",
       "\n",
       "    .dataframe thead th {\n",
       "        text-align: right;\n",
       "    }\n",
       "</style>\n",
       "<table border=\"1\" class=\"dataframe\">\n",
       "  <thead>\n",
       "    <tr style=\"text-align: right;\">\n",
       "      <th></th>\n",
       "      <th>predict_proba</th>\n",
       "      <th>default</th>\n",
       "      <th>bins</th>\n",
       "      <th>category</th>\n",
       "    </tr>\n",
       "  </thead>\n",
       "  <tbody>\n",
       "    <tr>\n",
       "      <th>1</th>\n",
       "      <td>0.825344</td>\n",
       "      <td>False</td>\n",
       "      <td>(0.82, 0.852]</td>\n",
       "      <td>E</td>\n",
       "    </tr>\n",
       "    <tr>\n",
       "      <th>2</th>\n",
       "      <td>0.823097</td>\n",
       "      <td>False</td>\n",
       "      <td>(0.82, 0.852]</td>\n",
       "      <td>E</td>\n",
       "    </tr>\n",
       "    <tr>\n",
       "      <th>3</th>\n",
       "      <td>0.833522</td>\n",
       "      <td>False</td>\n",
       "      <td>(0.82, 0.852]</td>\n",
       "      <td>E</td>\n",
       "    </tr>\n",
       "    <tr>\n",
       "      <th>4</th>\n",
       "      <td>0.668381</td>\n",
       "      <td>False</td>\n",
       "      <td>(0.66, 0.692]</td>\n",
       "      <td>J</td>\n",
       "    </tr>\n",
       "    <tr>\n",
       "      <th>5</th>\n",
       "      <td>0.722260</td>\n",
       "      <td>True</td>\n",
       "      <td>(0.692, 0.724]</td>\n",
       "      <td>I</td>\n",
       "    </tr>\n",
       "  </tbody>\n",
       "</table>\n",
       "</div>"
      ],
      "text/plain": [
       "   predict_proba  default            bins category\n",
       "1       0.825344    False   (0.82, 0.852]        E\n",
       "2       0.823097    False   (0.82, 0.852]        E\n",
       "3       0.833522    False   (0.82, 0.852]        E\n",
       "4       0.668381    False   (0.66, 0.692]        J\n",
       "5       0.722260     True  (0.692, 0.724]        I"
      ]
     },
     "execution_count": 54,
     "metadata": {},
     "output_type": "execute_result"
    }
   ],
   "source": [
    "df_for_category_logreg.head()"
   ]
  },
  {
   "cell_type": "code",
   "execution_count": 55,
   "metadata": {
    "hidden": true
   },
   "outputs": [
    {
     "data": {
      "text/plain": [
       "Text(0.5, 1.0, 'Процент дефолтов по категориям')"
      ]
     },
     "execution_count": 55,
     "metadata": {},
     "output_type": "execute_result"
    }
   ],
   "source": [
    "plt.figure(figsize = (20, 10))\n",
    "plt.scatter(\n",
    "    df_for_category_logreg.groupby('category').default.mean().index,\n",
    "    df_for_category_logreg.groupby('category').default.mean().values)\n",
    "plt.title('Процент дефолтов по категориям', fontsize=18)"
   ]
  },
  {
   "cell_type": "code",
   "execution_count": 56,
   "metadata": {
    "hidden": true
   },
   "outputs": [
    {
     "data": {
      "text/plain": [
       "Text(0.5, 1.0, 'Количество дефолтов по категориям')"
      ]
     },
     "execution_count": 56,
     "metadata": {},
     "output_type": "execute_result"
    }
   ],
   "source": [
    "plt.figure(figsize = (20, 10))\n",
    "plt.scatter(\n",
    "    df_for_category_logreg.groupby('category').default.sum().index,\n",
    "    df_for_category_logreg.groupby('category').default.sum().values)\n",
    "plt.title('Количество дефолтов по категориям', fontsize=18)"
   ]
  },
  {
   "cell_type": "code",
   "execution_count": 57,
   "metadata": {
    "hidden": true
   },
   "outputs": [
    {
     "name": "stdout",
     "output_type": "stream",
     "text": [
      "Доля дефолтов во всех не-дефолтных категориях:  0.2585\n"
     ]
    }
   ],
   "source": [
    "print(f'Доля дефолтов во всех не-дефолтных категориях: {df_for_category_logreg.default.mean() : .4}')"
   ]
  },
  {
   "cell_type": "markdown",
   "metadata": {
    "hidden": true
   },
   "source": [
    "Мы видим, что во всех категориях не нулевое количество дефолтов. Для получения вероятности дефолта для каждого внутреннего рейтинга вместе с доверительными интервалами воспользуемся бустрэпом."
   ]
  },
  {
   "cell_type": "code",
   "execution_count": 58,
   "metadata": {
    "hidden": true
   },
   "outputs": [
    {
     "data": {
      "text/plain": [
       "(240863, 21)"
      ]
     },
     "execution_count": 58,
     "metadata": {},
     "output_type": "execute_result"
    }
   ],
   "source": [
    "TEST_WOE.shape"
   ]
  },
  {
   "cell_type": "code",
   "execution_count": 59,
   "metadata": {
    "hidden": true
   },
   "outputs": [
    {
     "data": {
      "text/plain": [
       "(797178, 21)"
      ]
     },
     "execution_count": 59,
     "metadata": {},
     "output_type": "execute_result"
    }
   ],
   "source": [
    "TRAIN_TRAIN_WOE.shape"
   ]
  },
  {
   "cell_type": "code",
   "execution_count": 60,
   "metadata": {
    "hidden": true
   },
   "outputs": [],
   "source": [
    "plt.figure(figsize = (20, 10))\n",
    "plt.grid()\n",
    "\n",
    "N_ITER = 100\n",
    "\n",
    "data_agg: np.ndarray = np.zeros(shape=(N_ITER, len(cutted_bins) - 1))\n",
    "data_overall: np.ndarray = np.zeros(N_ITER)    \n",
    "    \n",
    "for i in range(0, N_ITER):\n",
    "    sample_index = np.random.choice(range(0, len(y_test_val)), len(y_test_val))\n",
    "    y_samples = y_test_val.iloc[sample_index]   \n",
    "    X_samples = TEST_WOE.iloc[sample_index][LR_FEATURES]\n",
    "    predict_cal_samples = TRAIN_FULL_LR_MODEL.predict_proba(X_samples)\n",
    "    df_for_category_ = pd.DataFrame(\n",
    "            {'predict_proba': predict_cal_samples[:, 0], 'default': y_samples}\n",
    "    )\n",
    "    df_for_category_ = df_for_category_[df_for_category_.predict_proba > 0.5]\n",
    "    df_for_category_['category'] = df_for_category_.predict_proba.apply(lambda x: \n",
    "                                                                        calculate_category(x, cutted_bins))\n",
    "    #print(f'Доля дефолтов во всех не-дефолтных категориях: {df_for_category_.default.mean() : .4}')\n",
    "    plt.scatter(\n",
    "    df_for_category_.groupby('category').default.mean().index,\n",
    "    df_for_category_.groupby('category').default.mean().values)\n",
    "    plt.title('Процент дефолтов в разрезе по категориям', fontsize=18)\n",
    "    \n",
    "    data_agg[i, :] = df_for_category_.groupby('category').default.mean().values\n",
    "    data_overall[i] = df_for_category_.default.mean()"
   ]
  },
  {
   "cell_type": "code",
   "execution_count": 61,
   "metadata": {
    "hidden": true
   },
   "outputs": [
    {
     "name": "stderr",
     "output_type": "stream",
     "text": [
      "/Users/nialeksandrov/virtualenvs/risks/lib/python3.7/site-packages/ipykernel_launcher.py:4: MatplotlibDeprecationWarning: Adding an axes using the same arguments as a previous axes currently reuses the earlier instance.  In a future version, a new instance will always be created and returned.  Meanwhile, this warning can be suppressed, and the future behavior ensured, by passing a unique label to each axes instance.\n",
      "  after removing the cwd from sys.path.\n"
     ]
    }
   ],
   "source": [
    "fig = plt.figure(1, figsize=(20, 15))\n",
    "plt.grid()\n",
    "\n",
    "ax = fig.add_subplot(111)\n",
    "plt.title('Процент дефолтов по не-дефолтным категориям в целом', fontsize=18)\n",
    "\n",
    "_ = ax.boxplot(data_overall, whis=[2.5, 97.5])"
   ]
  },
  {
   "cell_type": "code",
   "execution_count": 62,
   "metadata": {
    "hidden": true
   },
   "outputs": [
    {
     "name": "stderr",
     "output_type": "stream",
     "text": [
      "/Users/nialeksandrov/virtualenvs/risks/lib/python3.7/site-packages/ipykernel_launcher.py:4: MatplotlibDeprecationWarning: Adding an axes using the same arguments as a previous axes currently reuses the earlier instance.  In a future version, a new instance will always be created and returned.  Meanwhile, this warning can be suppressed, and the future behavior ensured, by passing a unique label to each axes instance.\n",
      "  after removing the cwd from sys.path.\n"
     ]
    }
   ],
   "source": [
    "fig = plt.figure(1, figsize=(20, 15))\n",
    "plt.grid()\n",
    "\n",
    "ax = fig.add_subplot(111)\n",
    "plt.title('Процент дефолтов в разрезе по категориям', fontsize=18)\n",
    "\n",
    "labels = [\"{}\".format(int(i)) for i in ax.get_xticks()]\n",
    "ax.set_xticklabels(df_for_category_.groupby('category').default.mean().index.values,\n",
    "                  fontsize=14)\n",
    "_ = ax.boxplot(data_agg, whis=[2.5, 97.5])"
   ]
  },
  {
   "cell_type": "code",
   "execution_count": 63,
   "metadata": {
    "hidden": true
   },
   "outputs": [
    {
     "name": "stdout",
     "output_type": "stream",
     "text": [
      " Процент дефолтов по всем не-дефолтным категориям находится в доверительном 99% интервале \n",
      "      [  0.256514 ,  0.256514 ]\n",
      "      \n"
     ]
    }
   ],
   "source": [
    "print(f''' Процент дефолтов по всем не-дефолтным категориям находится в доверительном 99% интервале \n",
    "      [ {np.percentile(data_overall, 0.005) : .6} , {np.percentile(data_overall, 0.095) : .6} ]\n",
    "      ''')"
   ]
  },
  {
   "cell_type": "code",
   "execution_count": 64,
   "metadata": {
    "hidden": true
   },
   "outputs": [],
   "source": [
    "cats = df_for_category_.groupby('category').default.mean().index.values\n",
    "\n",
    "results_df = pd.DataFrame({'category' : cats, \n",
    "              '2.5%': [np.percentile(data_agg[:, i], 0.025) for i in range(data_agg.shape[1])], \n",
    "              '97.5%':[np.percentile(data_agg[:, i], 0.975) for i in range(data_agg.shape[1])],\n",
    "              'low_boundary': list(reversed(cutted_bins[1:]))})"
   ]
  },
  {
   "cell_type": "code",
   "execution_count": 65,
   "metadata": {
    "hidden": true
   },
   "outputs": [
    {
     "name": "stdout",
     "output_type": "stream",
     "text": [
      "Процент дефолтов в разрезе по категориям (доверительный 95% интервал):\n"
     ]
    },
    {
     "data": {
      "text/html": [
       "<div>\n",
       "<style scoped>\n",
       "    .dataframe tbody tr th:only-of-type {\n",
       "        vertical-align: middle;\n",
       "    }\n",
       "\n",
       "    .dataframe tbody tr th {\n",
       "        vertical-align: top;\n",
       "    }\n",
       "\n",
       "    .dataframe thead th {\n",
       "        text-align: right;\n",
       "    }\n",
       "</style>\n",
       "<table border=\"1\" class=\"dataframe\">\n",
       "  <thead>\n",
       "    <tr style=\"text-align: right;\">\n",
       "      <th></th>\n",
       "      <th>category</th>\n",
       "      <th>2.5%</th>\n",
       "      <th>97.5%</th>\n",
       "      <th>low_boundary</th>\n",
       "    </tr>\n",
       "  </thead>\n",
       "  <tbody>\n",
       "    <tr>\n",
       "      <th>0</th>\n",
       "      <td>A</td>\n",
       "      <td>0.052749</td>\n",
       "      <td>0.053005</td>\n",
       "      <td>0.980286</td>\n",
       "    </tr>\n",
       "    <tr>\n",
       "      <th>1</th>\n",
       "      <td>B</td>\n",
       "      <td>0.103696</td>\n",
       "      <td>0.103980</td>\n",
       "      <td>0.948268</td>\n",
       "    </tr>\n",
       "    <tr>\n",
       "      <th>2</th>\n",
       "      <td>C</td>\n",
       "      <td>0.154336</td>\n",
       "      <td>0.154833</td>\n",
       "      <td>0.916250</td>\n",
       "    </tr>\n",
       "    <tr>\n",
       "      <th>3</th>\n",
       "      <td>D</td>\n",
       "      <td>0.200627</td>\n",
       "      <td>0.201723</td>\n",
       "      <td>0.884232</td>\n",
       "    </tr>\n",
       "    <tr>\n",
       "      <th>4</th>\n",
       "      <td>E</td>\n",
       "      <td>0.242997</td>\n",
       "      <td>0.243415</td>\n",
       "      <td>0.852214</td>\n",
       "    </tr>\n",
       "    <tr>\n",
       "      <th>5</th>\n",
       "      <td>F</td>\n",
       "      <td>0.282695</td>\n",
       "      <td>0.283274</td>\n",
       "      <td>0.820196</td>\n",
       "    </tr>\n",
       "    <tr>\n",
       "      <th>6</th>\n",
       "      <td>G</td>\n",
       "      <td>0.317996</td>\n",
       "      <td>0.318049</td>\n",
       "      <td>0.788178</td>\n",
       "    </tr>\n",
       "    <tr>\n",
       "      <th>7</th>\n",
       "      <td>H</td>\n",
       "      <td>0.348020</td>\n",
       "      <td>0.350150</td>\n",
       "      <td>0.756160</td>\n",
       "    </tr>\n",
       "    <tr>\n",
       "      <th>8</th>\n",
       "      <td>I</td>\n",
       "      <td>0.379881</td>\n",
       "      <td>0.380383</td>\n",
       "      <td>0.724142</td>\n",
       "    </tr>\n",
       "    <tr>\n",
       "      <th>9</th>\n",
       "      <td>J</td>\n",
       "      <td>0.397412</td>\n",
       "      <td>0.398239</td>\n",
       "      <td>0.692125</td>\n",
       "    </tr>\n",
       "    <tr>\n",
       "      <th>10</th>\n",
       "      <td>K</td>\n",
       "      <td>0.418710</td>\n",
       "      <td>0.419181</td>\n",
       "      <td>0.660107</td>\n",
       "    </tr>\n",
       "    <tr>\n",
       "      <th>11</th>\n",
       "      <td>L</td>\n",
       "      <td>0.436624</td>\n",
       "      <td>0.437381</td>\n",
       "      <td>0.628089</td>\n",
       "    </tr>\n",
       "    <tr>\n",
       "      <th>12</th>\n",
       "      <td>M</td>\n",
       "      <td>0.450711</td>\n",
       "      <td>0.454695</td>\n",
       "      <td>0.596071</td>\n",
       "    </tr>\n",
       "    <tr>\n",
       "      <th>13</th>\n",
       "      <td>N</td>\n",
       "      <td>0.464332</td>\n",
       "      <td>0.471126</td>\n",
       "      <td>0.564053</td>\n",
       "    </tr>\n",
       "    <tr>\n",
       "      <th>14</th>\n",
       "      <td>O</td>\n",
       "      <td>0.482756</td>\n",
       "      <td>0.493227</td>\n",
       "      <td>0.532035</td>\n",
       "    </tr>\n",
       "  </tbody>\n",
       "</table>\n",
       "</div>"
      ],
      "text/plain": [
       "   category      2.5%     97.5%  low_boundary\n",
       "0         A  0.052749  0.053005      0.980286\n",
       "1         B  0.103696  0.103980      0.948268\n",
       "2         C  0.154336  0.154833      0.916250\n",
       "3         D  0.200627  0.201723      0.884232\n",
       "4         E  0.242997  0.243415      0.852214\n",
       "5         F  0.282695  0.283274      0.820196\n",
       "6         G  0.317996  0.318049      0.788178\n",
       "7         H  0.348020  0.350150      0.756160\n",
       "8         I  0.379881  0.380383      0.724142\n",
       "9         J  0.397412  0.398239      0.692125\n",
       "10        K  0.418710  0.419181      0.660107\n",
       "11        L  0.436624  0.437381      0.628089\n",
       "12        M  0.450711  0.454695      0.596071\n",
       "13        N  0.464332  0.471126      0.564053\n",
       "14        O  0.482756  0.493227      0.532035"
      ]
     },
     "execution_count": 65,
     "metadata": {},
     "output_type": "execute_result"
    }
   ],
   "source": [
    "print(f'Процент дефолтов в разрезе по категориям (доверительный 95% интервал):')\n",
    "results_df"
   ]
  },
  {
   "cell_type": "markdown",
   "metadata": {
    "hidden": true
   },
   "source": [
    "Объединим пересекающиеся категории."
   ]
  },
  {
   "cell_type": "code",
   "execution_count": 66,
   "metadata": {
    "hidden": true
   },
   "outputs": [],
   "source": [
    "intersection_with_prev = np.zeros(results_df.shape[0])\n",
    "for i in range(1, results_df.shape[0]):\n",
    "    intersection_with_prev[i] = results_df.iloc[i, 1] < results_df.iloc[i-1, 2]"
   ]
  },
  {
   "cell_type": "code",
   "execution_count": 67,
   "metadata": {
    "hidden": true
   },
   "outputs": [],
   "source": [
    "results_df['intersect_with_prev'] = intersection_with_prev"
   ]
  },
  {
   "cell_type": "code",
   "execution_count": 68,
   "metadata": {
    "hidden": true
   },
   "outputs": [
    {
     "data": {
      "text/html": [
       "<div>\n",
       "<style scoped>\n",
       "    .dataframe tbody tr th:only-of-type {\n",
       "        vertical-align: middle;\n",
       "    }\n",
       "\n",
       "    .dataframe tbody tr th {\n",
       "        vertical-align: top;\n",
       "    }\n",
       "\n",
       "    .dataframe thead th {\n",
       "        text-align: right;\n",
       "    }\n",
       "</style>\n",
       "<table border=\"1\" class=\"dataframe\">\n",
       "  <thead>\n",
       "    <tr style=\"text-align: right;\">\n",
       "      <th></th>\n",
       "      <th>category</th>\n",
       "      <th>2.5%</th>\n",
       "      <th>97.5%</th>\n",
       "      <th>low_boundary</th>\n",
       "      <th>intersect_with_prev</th>\n",
       "    </tr>\n",
       "  </thead>\n",
       "  <tbody>\n",
       "    <tr>\n",
       "      <th>0</th>\n",
       "      <td>A</td>\n",
       "      <td>0.052749</td>\n",
       "      <td>0.053005</td>\n",
       "      <td>0.980286</td>\n",
       "      <td>0.0</td>\n",
       "    </tr>\n",
       "    <tr>\n",
       "      <th>1</th>\n",
       "      <td>B</td>\n",
       "      <td>0.103696</td>\n",
       "      <td>0.103980</td>\n",
       "      <td>0.948268</td>\n",
       "      <td>0.0</td>\n",
       "    </tr>\n",
       "    <tr>\n",
       "      <th>2</th>\n",
       "      <td>C</td>\n",
       "      <td>0.154336</td>\n",
       "      <td>0.154833</td>\n",
       "      <td>0.916250</td>\n",
       "      <td>0.0</td>\n",
       "    </tr>\n",
       "    <tr>\n",
       "      <th>3</th>\n",
       "      <td>D</td>\n",
       "      <td>0.200627</td>\n",
       "      <td>0.201723</td>\n",
       "      <td>0.884232</td>\n",
       "      <td>0.0</td>\n",
       "    </tr>\n",
       "    <tr>\n",
       "      <th>4</th>\n",
       "      <td>E</td>\n",
       "      <td>0.242997</td>\n",
       "      <td>0.243415</td>\n",
       "      <td>0.852214</td>\n",
       "      <td>0.0</td>\n",
       "    </tr>\n",
       "    <tr>\n",
       "      <th>5</th>\n",
       "      <td>F</td>\n",
       "      <td>0.282695</td>\n",
       "      <td>0.283274</td>\n",
       "      <td>0.820196</td>\n",
       "      <td>0.0</td>\n",
       "    </tr>\n",
       "    <tr>\n",
       "      <th>6</th>\n",
       "      <td>G</td>\n",
       "      <td>0.317996</td>\n",
       "      <td>0.318049</td>\n",
       "      <td>0.788178</td>\n",
       "      <td>0.0</td>\n",
       "    </tr>\n",
       "    <tr>\n",
       "      <th>7</th>\n",
       "      <td>H</td>\n",
       "      <td>0.348020</td>\n",
       "      <td>0.350150</td>\n",
       "      <td>0.756160</td>\n",
       "      <td>0.0</td>\n",
       "    </tr>\n",
       "    <tr>\n",
       "      <th>8</th>\n",
       "      <td>I</td>\n",
       "      <td>0.379881</td>\n",
       "      <td>0.380383</td>\n",
       "      <td>0.724142</td>\n",
       "      <td>0.0</td>\n",
       "    </tr>\n",
       "    <tr>\n",
       "      <th>9</th>\n",
       "      <td>J</td>\n",
       "      <td>0.397412</td>\n",
       "      <td>0.398239</td>\n",
       "      <td>0.692125</td>\n",
       "      <td>0.0</td>\n",
       "    </tr>\n",
       "    <tr>\n",
       "      <th>10</th>\n",
       "      <td>K</td>\n",
       "      <td>0.418710</td>\n",
       "      <td>0.419181</td>\n",
       "      <td>0.660107</td>\n",
       "      <td>0.0</td>\n",
       "    </tr>\n",
       "    <tr>\n",
       "      <th>11</th>\n",
       "      <td>L</td>\n",
       "      <td>0.436624</td>\n",
       "      <td>0.437381</td>\n",
       "      <td>0.628089</td>\n",
       "      <td>0.0</td>\n",
       "    </tr>\n",
       "    <tr>\n",
       "      <th>12</th>\n",
       "      <td>M</td>\n",
       "      <td>0.450711</td>\n",
       "      <td>0.454695</td>\n",
       "      <td>0.596071</td>\n",
       "      <td>0.0</td>\n",
       "    </tr>\n",
       "    <tr>\n",
       "      <th>13</th>\n",
       "      <td>N</td>\n",
       "      <td>0.464332</td>\n",
       "      <td>0.471126</td>\n",
       "      <td>0.564053</td>\n",
       "      <td>0.0</td>\n",
       "    </tr>\n",
       "    <tr>\n",
       "      <th>14</th>\n",
       "      <td>O</td>\n",
       "      <td>0.482756</td>\n",
       "      <td>0.493227</td>\n",
       "      <td>0.532035</td>\n",
       "      <td>0.0</td>\n",
       "    </tr>\n",
       "  </tbody>\n",
       "</table>\n",
       "</div>"
      ],
      "text/plain": [
       "   category      2.5%     97.5%  low_boundary  intersect_with_prev\n",
       "0         A  0.052749  0.053005      0.980286                  0.0\n",
       "1         B  0.103696  0.103980      0.948268                  0.0\n",
       "2         C  0.154336  0.154833      0.916250                  0.0\n",
       "3         D  0.200627  0.201723      0.884232                  0.0\n",
       "4         E  0.242997  0.243415      0.852214                  0.0\n",
       "5         F  0.282695  0.283274      0.820196                  0.0\n",
       "6         G  0.317996  0.318049      0.788178                  0.0\n",
       "7         H  0.348020  0.350150      0.756160                  0.0\n",
       "8         I  0.379881  0.380383      0.724142                  0.0\n",
       "9         J  0.397412  0.398239      0.692125                  0.0\n",
       "10        K  0.418710  0.419181      0.660107                  0.0\n",
       "11        L  0.436624  0.437381      0.628089                  0.0\n",
       "12        M  0.450711  0.454695      0.596071                  0.0\n",
       "13        N  0.464332  0.471126      0.564053                  0.0\n",
       "14        O  0.482756  0.493227      0.532035                  0.0"
      ]
     },
     "execution_count": 68,
     "metadata": {},
     "output_type": "execute_result"
    }
   ],
   "source": [
    "results_df"
   ]
  },
  {
   "cell_type": "code",
   "execution_count": 69,
   "metadata": {
    "hidden": true
   },
   "outputs": [],
   "source": [
    "idx_to_remove = results_df[results_df.intersect_with_prev == 1].index"
   ]
  },
  {
   "cell_type": "code",
   "execution_count": 70,
   "metadata": {
    "hidden": true
   },
   "outputs": [],
   "source": [
    "for idx in idx_to_remove:\n",
    "    results_df.iloc[idx-1, 2] = results_df.iloc[idx, 2]\n",
    "    results_df.iloc[idx-1, 0] += '_' + results_df.iloc[idx, 0]\n",
    "    results_df.iloc[idx-1, 3] = results_df.iloc[idx, 3]\n",
    "results_df = results_df.drop(results_df.index[idx_to_remove])"
   ]
  },
  {
   "cell_type": "code",
   "execution_count": 71,
   "metadata": {
    "hidden": true
   },
   "outputs": [
    {
     "data": {
      "text/html": [
       "<div>\n",
       "<style scoped>\n",
       "    .dataframe tbody tr th:only-of-type {\n",
       "        vertical-align: middle;\n",
       "    }\n",
       "\n",
       "    .dataframe tbody tr th {\n",
       "        vertical-align: top;\n",
       "    }\n",
       "\n",
       "    .dataframe thead th {\n",
       "        text-align: right;\n",
       "    }\n",
       "</style>\n",
       "<table border=\"1\" class=\"dataframe\">\n",
       "  <thead>\n",
       "    <tr style=\"text-align: right;\">\n",
       "      <th></th>\n",
       "      <th>category</th>\n",
       "      <th>2.5%</th>\n",
       "      <th>97.5%</th>\n",
       "      <th>low_boundary</th>\n",
       "      <th>intersect_with_prev</th>\n",
       "    </tr>\n",
       "  </thead>\n",
       "  <tbody>\n",
       "    <tr>\n",
       "      <th>0</th>\n",
       "      <td>A</td>\n",
       "      <td>0.052749</td>\n",
       "      <td>0.053005</td>\n",
       "      <td>0.980286</td>\n",
       "      <td>0.0</td>\n",
       "    </tr>\n",
       "    <tr>\n",
       "      <th>1</th>\n",
       "      <td>B</td>\n",
       "      <td>0.103696</td>\n",
       "      <td>0.103980</td>\n",
       "      <td>0.948268</td>\n",
       "      <td>0.0</td>\n",
       "    </tr>\n",
       "    <tr>\n",
       "      <th>2</th>\n",
       "      <td>C</td>\n",
       "      <td>0.154336</td>\n",
       "      <td>0.154833</td>\n",
       "      <td>0.916250</td>\n",
       "      <td>0.0</td>\n",
       "    </tr>\n",
       "    <tr>\n",
       "      <th>3</th>\n",
       "      <td>D</td>\n",
       "      <td>0.200627</td>\n",
       "      <td>0.201723</td>\n",
       "      <td>0.884232</td>\n",
       "      <td>0.0</td>\n",
       "    </tr>\n",
       "    <tr>\n",
       "      <th>4</th>\n",
       "      <td>E</td>\n",
       "      <td>0.242997</td>\n",
       "      <td>0.243415</td>\n",
       "      <td>0.852214</td>\n",
       "      <td>0.0</td>\n",
       "    </tr>\n",
       "    <tr>\n",
       "      <th>5</th>\n",
       "      <td>F</td>\n",
       "      <td>0.282695</td>\n",
       "      <td>0.283274</td>\n",
       "      <td>0.820196</td>\n",
       "      <td>0.0</td>\n",
       "    </tr>\n",
       "    <tr>\n",
       "      <th>6</th>\n",
       "      <td>G</td>\n",
       "      <td>0.317996</td>\n",
       "      <td>0.318049</td>\n",
       "      <td>0.788178</td>\n",
       "      <td>0.0</td>\n",
       "    </tr>\n",
       "    <tr>\n",
       "      <th>7</th>\n",
       "      <td>H</td>\n",
       "      <td>0.348020</td>\n",
       "      <td>0.350150</td>\n",
       "      <td>0.756160</td>\n",
       "      <td>0.0</td>\n",
       "    </tr>\n",
       "    <tr>\n",
       "      <th>8</th>\n",
       "      <td>I</td>\n",
       "      <td>0.379881</td>\n",
       "      <td>0.380383</td>\n",
       "      <td>0.724142</td>\n",
       "      <td>0.0</td>\n",
       "    </tr>\n",
       "    <tr>\n",
       "      <th>9</th>\n",
       "      <td>J</td>\n",
       "      <td>0.397412</td>\n",
       "      <td>0.398239</td>\n",
       "      <td>0.692125</td>\n",
       "      <td>0.0</td>\n",
       "    </tr>\n",
       "    <tr>\n",
       "      <th>10</th>\n",
       "      <td>K</td>\n",
       "      <td>0.418710</td>\n",
       "      <td>0.419181</td>\n",
       "      <td>0.660107</td>\n",
       "      <td>0.0</td>\n",
       "    </tr>\n",
       "    <tr>\n",
       "      <th>11</th>\n",
       "      <td>L</td>\n",
       "      <td>0.436624</td>\n",
       "      <td>0.437381</td>\n",
       "      <td>0.628089</td>\n",
       "      <td>0.0</td>\n",
       "    </tr>\n",
       "    <tr>\n",
       "      <th>12</th>\n",
       "      <td>M</td>\n",
       "      <td>0.450711</td>\n",
       "      <td>0.454695</td>\n",
       "      <td>0.596071</td>\n",
       "      <td>0.0</td>\n",
       "    </tr>\n",
       "    <tr>\n",
       "      <th>13</th>\n",
       "      <td>N</td>\n",
       "      <td>0.464332</td>\n",
       "      <td>0.471126</td>\n",
       "      <td>0.564053</td>\n",
       "      <td>0.0</td>\n",
       "    </tr>\n",
       "    <tr>\n",
       "      <th>14</th>\n",
       "      <td>O</td>\n",
       "      <td>0.482756</td>\n",
       "      <td>0.493227</td>\n",
       "      <td>0.532035</td>\n",
       "      <td>0.0</td>\n",
       "    </tr>\n",
       "  </tbody>\n",
       "</table>\n",
       "</div>"
      ],
      "text/plain": [
       "   category      2.5%     97.5%  low_boundary  intersect_with_prev\n",
       "0         A  0.052749  0.053005      0.980286                  0.0\n",
       "1         B  0.103696  0.103980      0.948268                  0.0\n",
       "2         C  0.154336  0.154833      0.916250                  0.0\n",
       "3         D  0.200627  0.201723      0.884232                  0.0\n",
       "4         E  0.242997  0.243415      0.852214                  0.0\n",
       "5         F  0.282695  0.283274      0.820196                  0.0\n",
       "6         G  0.317996  0.318049      0.788178                  0.0\n",
       "7         H  0.348020  0.350150      0.756160                  0.0\n",
       "8         I  0.379881  0.380383      0.724142                  0.0\n",
       "9         J  0.397412  0.398239      0.692125                  0.0\n",
       "10        K  0.418710  0.419181      0.660107                  0.0\n",
       "11        L  0.436624  0.437381      0.628089                  0.0\n",
       "12        M  0.450711  0.454695      0.596071                  0.0\n",
       "13        N  0.464332  0.471126      0.564053                  0.0\n",
       "14        O  0.482756  0.493227      0.532035                  0.0"
      ]
     },
     "execution_count": 71,
     "metadata": {},
     "output_type": "execute_result"
    }
   ],
   "source": [
    "results_df"
   ]
  },
  {
   "cell_type": "code",
   "execution_count": 72,
   "metadata": {
    "hidden": true
   },
   "outputs": [
    {
     "name": "stdout",
     "output_type": "stream",
     "text": [
      "Итоговые категории: \n",
      "O : [ 0.5000 : 0.5320 ] \n",
      "N : [ 0.5320 :  0.5641 ] \n",
      "M : [ 0.5641 :  0.5961 ] \n",
      "L : [ 0.5961 :  0.6281 ] \n",
      "K : [ 0.6281 :  0.6601 ] \n",
      "J : [ 0.6601 :  0.6921 ] \n",
      "I : [ 0.6921 :  0.7241 ] \n",
      "H : [ 0.7241 :  0.7562 ] \n",
      "G : [ 0.7562 :  0.7882 ] \n",
      "F : [ 0.7882 :  0.8202 ] \n",
      "E : [ 0.8202 :  0.8522 ] \n",
      "D : [ 0.8522 :  0.8842 ] \n",
      "C : [ 0.8842 :  0.9162 ] \n",
      "B : [ 0.9162 :  0.9483 ] \n",
      "A : [  0.9483 :  1.0000 ] \n"
     ]
    }
   ],
   "source": [
    "print(f'Итоговые категории: ')\n",
    "print(f'{results_df.iloc[-1, 0]} : [ {0.5 :.4f} : {results_df.iloc[-1, 3]:.4f} ] ')\n",
    "for i in reversed(range(1, results_df.shape[0] - 1)):\n",
    "      print(f'{results_df.iloc[i, 0]} : [ {results_df.iloc[i+1, 3] :.4f} : {results_df.iloc[i, 3] : .4f} ] ')\n",
    "print(f'{results_df.iloc[0, 0]} : [ {results_df.iloc[1, 3] : .4f} : {1. : .4f} ] ')"
   ]
  },
  {
   "cell_type": "code",
   "execution_count": 73,
   "metadata": {
    "hidden": true
   },
   "outputs": [],
   "source": [
    "logreg_labels = results_df.category.values\n",
    "logreg_cutted_bins = results_df.low_boundary.values"
   ]
  },
  {
   "cell_type": "code",
   "execution_count": 74,
   "metadata": {
    "hidden": true
   },
   "outputs": [],
   "source": [
    "def calculate_new_category_logreg(score: float,\n",
    "                                  cutted_bins=logreg_cutted_bins, \n",
    "                                  labels=logreg_labels) -> str:\n",
    "    '''\n",
    "    score -- вероятность не-дефолта\n",
    "    '''\n",
    "    labels = labels[::-1]\n",
    "    cutted_bins = cutted_bins[::-1]\n",
    "    idx = (cutted_bins > score).argmax()\n",
    "    if score > cutted_bins[-1]:\n",
    "        return labels[-1]\n",
    "    return labels[idx]"
   ]
  },
  {
   "cell_type": "code",
   "execution_count": 75,
   "metadata": {
    "hidden": true
   },
   "outputs": [],
   "source": [
    "y_test_val = TEST_DATA.default"
   ]
  },
  {
   "cell_type": "code",
   "execution_count": 76,
   "metadata": {
    "hidden": true
   },
   "outputs": [],
   "source": [
    "df_for_category = pd.DataFrame(\n",
    "            {'predict_proba': predict_cal[:, 0], 'default': y_test_val}\n",
    ")"
   ]
  },
  {
   "cell_type": "code",
   "execution_count": 77,
   "metadata": {
    "hidden": true
   },
   "outputs": [],
   "source": [
    "df_for_category = df_for_category[df_for_category.predict_proba > 0.5] #вероятность не-дефолта = 1 - вероятность дефолта"
   ]
  },
  {
   "cell_type": "code",
   "execution_count": 78,
   "metadata": {
    "hidden": true
   },
   "outputs": [],
   "source": [
    "bins = 15\n",
    "df_for_category[\"bins\"], cutted_bins = pd.cut(df_for_category[\"predict_proba\"], bins = bins, retbins=True)\n",
    "df_for_category['category'] = df_for_category.bins.cat.rename_categories(\n",
    "      reversed(list(string.ascii_uppercase)[:bins]))"
   ]
  },
  {
   "cell_type": "code",
   "execution_count": 79,
   "metadata": {
    "hidden": true
   },
   "outputs": [
    {
     "data": {
      "text/html": [
       "<div>\n",
       "<style scoped>\n",
       "    .dataframe tbody tr th:only-of-type {\n",
       "        vertical-align: middle;\n",
       "    }\n",
       "\n",
       "    .dataframe tbody tr th {\n",
       "        vertical-align: top;\n",
       "    }\n",
       "\n",
       "    .dataframe thead th {\n",
       "        text-align: right;\n",
       "    }\n",
       "</style>\n",
       "<table border=\"1\" class=\"dataframe\">\n",
       "  <thead>\n",
       "    <tr style=\"text-align: right;\">\n",
       "      <th></th>\n",
       "      <th>predict_proba</th>\n",
       "      <th>default</th>\n",
       "      <th>bins</th>\n",
       "      <th>category</th>\n",
       "    </tr>\n",
       "  </thead>\n",
       "  <tbody>\n",
       "    <tr>\n",
       "      <th>0</th>\n",
       "      <td>0.803040</td>\n",
       "      <td>False</td>\n",
       "      <td>(0.787, 0.819]</td>\n",
       "      <td>F</td>\n",
       "    </tr>\n",
       "    <tr>\n",
       "      <th>1</th>\n",
       "      <td>0.791214</td>\n",
       "      <td>False</td>\n",
       "      <td>(0.787, 0.819]</td>\n",
       "      <td>F</td>\n",
       "    </tr>\n",
       "    <tr>\n",
       "      <th>2</th>\n",
       "      <td>0.738253</td>\n",
       "      <td>False</td>\n",
       "      <td>(0.723, 0.755]</td>\n",
       "      <td>H</td>\n",
       "    </tr>\n",
       "    <tr>\n",
       "      <th>3</th>\n",
       "      <td>0.745090</td>\n",
       "      <td>False</td>\n",
       "      <td>(0.723, 0.755]</td>\n",
       "      <td>H</td>\n",
       "    </tr>\n",
       "    <tr>\n",
       "      <th>4</th>\n",
       "      <td>0.584313</td>\n",
       "      <td>False</td>\n",
       "      <td>(0.564, 0.596]</td>\n",
       "      <td>M</td>\n",
       "    </tr>\n",
       "  </tbody>\n",
       "</table>\n",
       "</div>"
      ],
      "text/plain": [
       "   predict_proba  default            bins category\n",
       "0       0.803040    False  (0.787, 0.819]        F\n",
       "1       0.791214    False  (0.787, 0.819]        F\n",
       "2       0.738253    False  (0.723, 0.755]        H\n",
       "3       0.745090    False  (0.723, 0.755]        H\n",
       "4       0.584313    False  (0.564, 0.596]        M"
      ]
     },
     "execution_count": 79,
     "metadata": {},
     "output_type": "execute_result"
    }
   ],
   "source": [
    "df_for_category.head()"
   ]
  },
  {
   "cell_type": "code",
   "execution_count": 80,
   "metadata": {
    "hidden": true
   },
   "outputs": [
    {
     "data": {
      "text/plain": [
       "Text(0.5, 1.0, 'Процент дефолтов по категориям')"
      ]
     },
     "execution_count": 80,
     "metadata": {},
     "output_type": "execute_result"
    }
   ],
   "source": [
    "plt.figure(figsize = (20, 10))\n",
    "plt.scatter(\n",
    "    df_for_category.groupby('category').default.mean().index,\n",
    "    df_for_category.groupby('category').default.mean().values)\n",
    "plt.title('Процент дефолтов по категориям', fontsize=18)"
   ]
  },
  {
   "cell_type": "code",
   "execution_count": 81,
   "metadata": {
    "hidden": true
   },
   "outputs": [
    {
     "data": {
      "text/plain": [
       "Text(0.5, 1.0, 'Количество дефолтов по категориям')"
      ]
     },
     "execution_count": 81,
     "metadata": {},
     "output_type": "execute_result"
    }
   ],
   "source": [
    "plt.figure(figsize = (20, 10))\n",
    "plt.scatter(\n",
    "    df_for_category.groupby('category').default.sum().index,\n",
    "    df_for_category.groupby('category').default.sum().values)\n",
    "plt.title('Количество дефолтов по категориям', fontsize=18)"
   ]
  },
  {
   "cell_type": "code",
   "execution_count": 82,
   "metadata": {
    "hidden": true
   },
   "outputs": [
    {
     "name": "stdout",
     "output_type": "stream",
     "text": [
      "Доля дефолтов во всех не-дефолтных категориях:  0.2466\n"
     ]
    }
   ],
   "source": [
    "print(f'Доля дефолтов во всех не-дефолтных категориях: {df_for_category.default.mean() : .4}')"
   ]
  },
  {
   "cell_type": "markdown",
   "metadata": {
    "hidden": true
   },
   "source": [
    "Мы видим, что во всех категориях не нулевое количество дефолтов. Для получения вероятности дефолта для каждого внутреннего рейтинга вместе с доверительными интервалами воспользуемся бустрэпом."
   ]
  },
  {
   "cell_type": "code",
   "execution_count": 83,
   "metadata": {
    "hidden": true
   },
   "outputs": [],
   "source": [
    "plt.figure(figsize = (20, 10))\n",
    "plt.grid()\n",
    "\n",
    "N_ITER = 100\n",
    "\n",
    "data_agg: np.ndarray = np.zeros(shape=(N_ITER, len(cutted_bins) - 1))\n",
    "data_overall: np.ndarray = np.zeros(N_ITER)    \n",
    "    \n",
    "for i in range(0, N_ITER):\n",
    "    sample_index = np.random.choice(range(0, len(y_test_val)), len(y_test_val))\n",
    "    y_samples = y_test_val.iloc[sample_index]   \n",
    "    X_samples = X_test_val.iloc[sample_index, :]\n",
    "    predict_cal_samples = TRAIN_FULL_CATBOOST_MODEL.predict_proba(X_samples)\n",
    "    df_for_category_ = pd.DataFrame(\n",
    "            {'predict_proba': predict_cal_samples[:, 0], 'default': y_samples}\n",
    "    )\n",
    "    df_for_category_ = df_for_category_[df_for_category_.predict_proba > 0.5]\n",
    "    df_for_category_['category'] = df_for_category_.predict_proba.apply(lambda x: \n",
    "                                                                        calculate_category(x, cutted_bins))\n",
    "    plt.scatter(\n",
    "    df_for_category_.groupby('category').default.mean().index,\n",
    "    df_for_category_.groupby('category').default.mean().values)\n",
    "    plt.title('Процент дефолтов в разрезе по категориям', fontsize=18)\n",
    "    \n",
    "    data_agg[i, :] = df_for_category_.groupby('category').default.mean().values\n",
    "    data_overall[i] = df_for_category_.default.mean()"
   ]
  },
  {
   "cell_type": "code",
   "execution_count": 84,
   "metadata": {
    "hidden": true
   },
   "outputs": [
    {
     "name": "stderr",
     "output_type": "stream",
     "text": [
      "/Users/nialeksandrov/virtualenvs/risks/lib/python3.7/site-packages/ipykernel_launcher.py:4: MatplotlibDeprecationWarning: Adding an axes using the same arguments as a previous axes currently reuses the earlier instance.  In a future version, a new instance will always be created and returned.  Meanwhile, this warning can be suppressed, and the future behavior ensured, by passing a unique label to each axes instance.\n",
      "  after removing the cwd from sys.path.\n"
     ]
    }
   ],
   "source": [
    "fig = plt.figure(1, figsize=(20, 15))\n",
    "plt.grid()\n",
    "\n",
    "ax = fig.add_subplot(111)\n",
    "plt.title('Процент дефолтов по не-дефолтным категориям в целом', fontsize=18)\n",
    "\n",
    "_ = ax.boxplot(data_overall, whis=[2.5, 97.5])"
   ]
  },
  {
   "cell_type": "code",
   "execution_count": 85,
   "metadata": {
    "hidden": true
   },
   "outputs": [
    {
     "name": "stderr",
     "output_type": "stream",
     "text": [
      "/Users/nialeksandrov/virtualenvs/risks/lib/python3.7/site-packages/ipykernel_launcher.py:4: MatplotlibDeprecationWarning: Adding an axes using the same arguments as a previous axes currently reuses the earlier instance.  In a future version, a new instance will always be created and returned.  Meanwhile, this warning can be suppressed, and the future behavior ensured, by passing a unique label to each axes instance.\n",
      "  after removing the cwd from sys.path.\n"
     ]
    }
   ],
   "source": [
    "fig = plt.figure(1, figsize=(20, 15))\n",
    "plt.grid()\n",
    "\n",
    "ax = fig.add_subplot(111)\n",
    "plt.title('Процент дефолтов в разрезе по категориям', fontsize=18)\n",
    "\n",
    "labels = [\"{}\".format(int(i)) for i in ax.get_xticks()]\n",
    "ax.set_xticklabels(df_for_category_.groupby('category').default.mean().index.values,\n",
    "                  fontsize=14)\n",
    "_ = ax.boxplot(data_agg, whis=[2.5, 97.5])"
   ]
  },
  {
   "cell_type": "code",
   "execution_count": 86,
   "metadata": {
    "hidden": true
   },
   "outputs": [
    {
     "name": "stdout",
     "output_type": "stream",
     "text": [
      " Процент дефолтов по всем не-дефолтным категориям находится в доверительном 99% интервале \n",
      "      [  0.244062 ,  0.244136 ]\n",
      "      \n"
     ]
    }
   ],
   "source": [
    "print(f''' Процент дефолтов по всем не-дефолтным категориям находится в доверительном 99% интервале \n",
    "      [ {np.percentile(data_overall, 0.005) : .6} , {np.percentile(data_overall, 0.095) : .6} ]\n",
    "      ''')"
   ]
  },
  {
   "cell_type": "code",
   "execution_count": 87,
   "metadata": {
    "hidden": true
   },
   "outputs": [],
   "source": [
    "cats = df_for_category_.groupby('category').default.mean().index.values\n",
    "\n",
    "results_df = pd.DataFrame({'category' : cats, \n",
    "              '2.5%': [np.percentile(data_agg[:, i], 0.025) for i in range(data_agg.shape[1])], \n",
    "              '97.5%':[np.percentile(data_agg[:, i], 0.975) for i in range(data_agg.shape[1])],\n",
    "              'low_boundary': reversed(cutted_bins[1:])})"
   ]
  },
  {
   "cell_type": "code",
   "execution_count": 88,
   "metadata": {
    "hidden": true
   },
   "outputs": [
    {
     "name": "stdout",
     "output_type": "stream",
     "text": [
      "Процент дефолтов в разрезе по категориям (доверительный 95% интервал):\n"
     ]
    },
    {
     "data": {
      "text/html": [
       "<div>\n",
       "<style scoped>\n",
       "    .dataframe tbody tr th:only-of-type {\n",
       "        vertical-align: middle;\n",
       "    }\n",
       "\n",
       "    .dataframe tbody tr th {\n",
       "        vertical-align: top;\n",
       "    }\n",
       "\n",
       "    .dataframe thead th {\n",
       "        text-align: right;\n",
       "    }\n",
       "</style>\n",
       "<table border=\"1\" class=\"dataframe\">\n",
       "  <thead>\n",
       "    <tr style=\"text-align: right;\">\n",
       "      <th></th>\n",
       "      <th>category</th>\n",
       "      <th>2.5%</th>\n",
       "      <th>97.5%</th>\n",
       "      <th>low_boundary</th>\n",
       "    </tr>\n",
       "  </thead>\n",
       "  <tbody>\n",
       "    <tr>\n",
       "      <th>0</th>\n",
       "      <td>A</td>\n",
       "      <td>0.032157</td>\n",
       "      <td>0.035366</td>\n",
       "      <td>0.978315</td>\n",
       "    </tr>\n",
       "    <tr>\n",
       "      <th>1</th>\n",
       "      <td>B</td>\n",
       "      <td>0.076403</td>\n",
       "      <td>0.076961</td>\n",
       "      <td>0.946428</td>\n",
       "    </tr>\n",
       "    <tr>\n",
       "      <th>2</th>\n",
       "      <td>C</td>\n",
       "      <td>0.110897</td>\n",
       "      <td>0.111053</td>\n",
       "      <td>0.914540</td>\n",
       "    </tr>\n",
       "    <tr>\n",
       "      <th>3</th>\n",
       "      <td>D</td>\n",
       "      <td>0.143959</td>\n",
       "      <td>0.144793</td>\n",
       "      <td>0.882652</td>\n",
       "    </tr>\n",
       "    <tr>\n",
       "      <th>4</th>\n",
       "      <td>E</td>\n",
       "      <td>0.166737</td>\n",
       "      <td>0.167197</td>\n",
       "      <td>0.850765</td>\n",
       "    </tr>\n",
       "    <tr>\n",
       "      <th>5</th>\n",
       "      <td>F</td>\n",
       "      <td>0.195518</td>\n",
       "      <td>0.195528</td>\n",
       "      <td>0.818877</td>\n",
       "    </tr>\n",
       "    <tr>\n",
       "      <th>6</th>\n",
       "      <td>G</td>\n",
       "      <td>0.223201</td>\n",
       "      <td>0.224094</td>\n",
       "      <td>0.786990</td>\n",
       "    </tr>\n",
       "    <tr>\n",
       "      <th>7</th>\n",
       "      <td>H</td>\n",
       "      <td>0.247142</td>\n",
       "      <td>0.247457</td>\n",
       "      <td>0.755102</td>\n",
       "    </tr>\n",
       "    <tr>\n",
       "      <th>8</th>\n",
       "      <td>I</td>\n",
       "      <td>0.273405</td>\n",
       "      <td>0.274575</td>\n",
       "      <td>0.723214</td>\n",
       "    </tr>\n",
       "    <tr>\n",
       "      <th>9</th>\n",
       "      <td>J</td>\n",
       "      <td>0.313773</td>\n",
       "      <td>0.314785</td>\n",
       "      <td>0.691327</td>\n",
       "    </tr>\n",
       "    <tr>\n",
       "      <th>10</th>\n",
       "      <td>K</td>\n",
       "      <td>0.335320</td>\n",
       "      <td>0.339026</td>\n",
       "      <td>0.659439</td>\n",
       "    </tr>\n",
       "    <tr>\n",
       "      <th>11</th>\n",
       "      <td>L</td>\n",
       "      <td>0.369847</td>\n",
       "      <td>0.371434</td>\n",
       "      <td>0.627552</td>\n",
       "    </tr>\n",
       "    <tr>\n",
       "      <th>12</th>\n",
       "      <td>M</td>\n",
       "      <td>0.403660</td>\n",
       "      <td>0.403864</td>\n",
       "      <td>0.595664</td>\n",
       "    </tr>\n",
       "    <tr>\n",
       "      <th>13</th>\n",
       "      <td>N</td>\n",
       "      <td>0.444936</td>\n",
       "      <td>0.445579</td>\n",
       "      <td>0.563776</td>\n",
       "    </tr>\n",
       "    <tr>\n",
       "      <th>14</th>\n",
       "      <td>O</td>\n",
       "      <td>0.482250</td>\n",
       "      <td>0.484560</td>\n",
       "      <td>0.531889</td>\n",
       "    </tr>\n",
       "  </tbody>\n",
       "</table>\n",
       "</div>"
      ],
      "text/plain": [
       "   category      2.5%     97.5%  low_boundary\n",
       "0         A  0.032157  0.035366      0.978315\n",
       "1         B  0.076403  0.076961      0.946428\n",
       "2         C  0.110897  0.111053      0.914540\n",
       "3         D  0.143959  0.144793      0.882652\n",
       "4         E  0.166737  0.167197      0.850765\n",
       "5         F  0.195518  0.195528      0.818877\n",
       "6         G  0.223201  0.224094      0.786990\n",
       "7         H  0.247142  0.247457      0.755102\n",
       "8         I  0.273405  0.274575      0.723214\n",
       "9         J  0.313773  0.314785      0.691327\n",
       "10        K  0.335320  0.339026      0.659439\n",
       "11        L  0.369847  0.371434      0.627552\n",
       "12        M  0.403660  0.403864      0.595664\n",
       "13        N  0.444936  0.445579      0.563776\n",
       "14        O  0.482250  0.484560      0.531889"
      ]
     },
     "execution_count": 88,
     "metadata": {},
     "output_type": "execute_result"
    }
   ],
   "source": [
    "print(f'Процент дефолтов в разрезе по категориям (доверительный 95% интервал):')\n",
    "results_df"
   ]
  },
  {
   "cell_type": "markdown",
   "metadata": {
    "hidden": true
   },
   "source": [
    "Объединим пересекающиеся категории."
   ]
  },
  {
   "cell_type": "code",
   "execution_count": 89,
   "metadata": {
    "hidden": true
   },
   "outputs": [],
   "source": [
    "intersection_with_prev = np.zeros(results_df.shape[0])\n",
    "for i in range(1, results_df.shape[0]):\n",
    "    intersection_with_prev[i] = results_df.iloc[i, 1] < results_df.iloc[i-1, 2]"
   ]
  },
  {
   "cell_type": "code",
   "execution_count": 90,
   "metadata": {
    "hidden": true
   },
   "outputs": [],
   "source": [
    "results_df['intersect_with_prev'] = intersection_with_prev"
   ]
  },
  {
   "cell_type": "code",
   "execution_count": 91,
   "metadata": {
    "hidden": true
   },
   "outputs": [
    {
     "data": {
      "text/html": [
       "<div>\n",
       "<style scoped>\n",
       "    .dataframe tbody tr th:only-of-type {\n",
       "        vertical-align: middle;\n",
       "    }\n",
       "\n",
       "    .dataframe tbody tr th {\n",
       "        vertical-align: top;\n",
       "    }\n",
       "\n",
       "    .dataframe thead th {\n",
       "        text-align: right;\n",
       "    }\n",
       "</style>\n",
       "<table border=\"1\" class=\"dataframe\">\n",
       "  <thead>\n",
       "    <tr style=\"text-align: right;\">\n",
       "      <th></th>\n",
       "      <th>category</th>\n",
       "      <th>2.5%</th>\n",
       "      <th>97.5%</th>\n",
       "      <th>low_boundary</th>\n",
       "      <th>intersect_with_prev</th>\n",
       "    </tr>\n",
       "  </thead>\n",
       "  <tbody>\n",
       "    <tr>\n",
       "      <th>0</th>\n",
       "      <td>A</td>\n",
       "      <td>0.032157</td>\n",
       "      <td>0.035366</td>\n",
       "      <td>0.978315</td>\n",
       "      <td>0.0</td>\n",
       "    </tr>\n",
       "    <tr>\n",
       "      <th>1</th>\n",
       "      <td>B</td>\n",
       "      <td>0.076403</td>\n",
       "      <td>0.076961</td>\n",
       "      <td>0.946428</td>\n",
       "      <td>0.0</td>\n",
       "    </tr>\n",
       "    <tr>\n",
       "      <th>2</th>\n",
       "      <td>C</td>\n",
       "      <td>0.110897</td>\n",
       "      <td>0.111053</td>\n",
       "      <td>0.914540</td>\n",
       "      <td>0.0</td>\n",
       "    </tr>\n",
       "    <tr>\n",
       "      <th>3</th>\n",
       "      <td>D</td>\n",
       "      <td>0.143959</td>\n",
       "      <td>0.144793</td>\n",
       "      <td>0.882652</td>\n",
       "      <td>0.0</td>\n",
       "    </tr>\n",
       "    <tr>\n",
       "      <th>4</th>\n",
       "      <td>E</td>\n",
       "      <td>0.166737</td>\n",
       "      <td>0.167197</td>\n",
       "      <td>0.850765</td>\n",
       "      <td>0.0</td>\n",
       "    </tr>\n",
       "    <tr>\n",
       "      <th>5</th>\n",
       "      <td>F</td>\n",
       "      <td>0.195518</td>\n",
       "      <td>0.195528</td>\n",
       "      <td>0.818877</td>\n",
       "      <td>0.0</td>\n",
       "    </tr>\n",
       "    <tr>\n",
       "      <th>6</th>\n",
       "      <td>G</td>\n",
       "      <td>0.223201</td>\n",
       "      <td>0.224094</td>\n",
       "      <td>0.786990</td>\n",
       "      <td>0.0</td>\n",
       "    </tr>\n",
       "    <tr>\n",
       "      <th>7</th>\n",
       "      <td>H</td>\n",
       "      <td>0.247142</td>\n",
       "      <td>0.247457</td>\n",
       "      <td>0.755102</td>\n",
       "      <td>0.0</td>\n",
       "    </tr>\n",
       "    <tr>\n",
       "      <th>8</th>\n",
       "      <td>I</td>\n",
       "      <td>0.273405</td>\n",
       "      <td>0.274575</td>\n",
       "      <td>0.723214</td>\n",
       "      <td>0.0</td>\n",
       "    </tr>\n",
       "    <tr>\n",
       "      <th>9</th>\n",
       "      <td>J</td>\n",
       "      <td>0.313773</td>\n",
       "      <td>0.314785</td>\n",
       "      <td>0.691327</td>\n",
       "      <td>0.0</td>\n",
       "    </tr>\n",
       "    <tr>\n",
       "      <th>10</th>\n",
       "      <td>K</td>\n",
       "      <td>0.335320</td>\n",
       "      <td>0.339026</td>\n",
       "      <td>0.659439</td>\n",
       "      <td>0.0</td>\n",
       "    </tr>\n",
       "    <tr>\n",
       "      <th>11</th>\n",
       "      <td>L</td>\n",
       "      <td>0.369847</td>\n",
       "      <td>0.371434</td>\n",
       "      <td>0.627552</td>\n",
       "      <td>0.0</td>\n",
       "    </tr>\n",
       "    <tr>\n",
       "      <th>12</th>\n",
       "      <td>M</td>\n",
       "      <td>0.403660</td>\n",
       "      <td>0.403864</td>\n",
       "      <td>0.595664</td>\n",
       "      <td>0.0</td>\n",
       "    </tr>\n",
       "    <tr>\n",
       "      <th>13</th>\n",
       "      <td>N</td>\n",
       "      <td>0.444936</td>\n",
       "      <td>0.445579</td>\n",
       "      <td>0.563776</td>\n",
       "      <td>0.0</td>\n",
       "    </tr>\n",
       "    <tr>\n",
       "      <th>14</th>\n",
       "      <td>O</td>\n",
       "      <td>0.482250</td>\n",
       "      <td>0.484560</td>\n",
       "      <td>0.531889</td>\n",
       "      <td>0.0</td>\n",
       "    </tr>\n",
       "  </tbody>\n",
       "</table>\n",
       "</div>"
      ],
      "text/plain": [
       "   category      2.5%     97.5%  low_boundary  intersect_with_prev\n",
       "0         A  0.032157  0.035366      0.978315                  0.0\n",
       "1         B  0.076403  0.076961      0.946428                  0.0\n",
       "2         C  0.110897  0.111053      0.914540                  0.0\n",
       "3         D  0.143959  0.144793      0.882652                  0.0\n",
       "4         E  0.166737  0.167197      0.850765                  0.0\n",
       "5         F  0.195518  0.195528      0.818877                  0.0\n",
       "6         G  0.223201  0.224094      0.786990                  0.0\n",
       "7         H  0.247142  0.247457      0.755102                  0.0\n",
       "8         I  0.273405  0.274575      0.723214                  0.0\n",
       "9         J  0.313773  0.314785      0.691327                  0.0\n",
       "10        K  0.335320  0.339026      0.659439                  0.0\n",
       "11        L  0.369847  0.371434      0.627552                  0.0\n",
       "12        M  0.403660  0.403864      0.595664                  0.0\n",
       "13        N  0.444936  0.445579      0.563776                  0.0\n",
       "14        O  0.482250  0.484560      0.531889                  0.0"
      ]
     },
     "execution_count": 91,
     "metadata": {},
     "output_type": "execute_result"
    }
   ],
   "source": [
    "results_df"
   ]
  },
  {
   "cell_type": "code",
   "execution_count": 92,
   "metadata": {
    "hidden": true
   },
   "outputs": [],
   "source": [
    "idx_to_remove = results_df[results_df.intersect_with_prev == 1].index"
   ]
  },
  {
   "cell_type": "code",
   "execution_count": 93,
   "metadata": {
    "hidden": true
   },
   "outputs": [],
   "source": [
    "for idx in idx_to_remove:\n",
    "    results_df.iloc[idx-1, 2] = results_df.iloc[idx, 2]\n",
    "    results_df.iloc[idx-1, 0] += '_' + results_df.iloc[idx, 0]\n",
    "    results_df.iloc[idx-1, 3] = results_df.iloc[idx, 3]\n",
    "results_df = results_df.drop(results_df.index[idx_to_remove])"
   ]
  },
  {
   "cell_type": "code",
   "execution_count": 94,
   "metadata": {
    "hidden": true
   },
   "outputs": [
    {
     "data": {
      "text/html": [
       "<div>\n",
       "<style scoped>\n",
       "    .dataframe tbody tr th:only-of-type {\n",
       "        vertical-align: middle;\n",
       "    }\n",
       "\n",
       "    .dataframe tbody tr th {\n",
       "        vertical-align: top;\n",
       "    }\n",
       "\n",
       "    .dataframe thead th {\n",
       "        text-align: right;\n",
       "    }\n",
       "</style>\n",
       "<table border=\"1\" class=\"dataframe\">\n",
       "  <thead>\n",
       "    <tr style=\"text-align: right;\">\n",
       "      <th></th>\n",
       "      <th>category</th>\n",
       "      <th>2.5%</th>\n",
       "      <th>97.5%</th>\n",
       "      <th>low_boundary</th>\n",
       "      <th>intersect_with_prev</th>\n",
       "    </tr>\n",
       "  </thead>\n",
       "  <tbody>\n",
       "    <tr>\n",
       "      <th>0</th>\n",
       "      <td>A</td>\n",
       "      <td>0.032157</td>\n",
       "      <td>0.035366</td>\n",
       "      <td>0.978315</td>\n",
       "      <td>0.0</td>\n",
       "    </tr>\n",
       "    <tr>\n",
       "      <th>1</th>\n",
       "      <td>B</td>\n",
       "      <td>0.076403</td>\n",
       "      <td>0.076961</td>\n",
       "      <td>0.946428</td>\n",
       "      <td>0.0</td>\n",
       "    </tr>\n",
       "    <tr>\n",
       "      <th>2</th>\n",
       "      <td>C</td>\n",
       "      <td>0.110897</td>\n",
       "      <td>0.111053</td>\n",
       "      <td>0.914540</td>\n",
       "      <td>0.0</td>\n",
       "    </tr>\n",
       "    <tr>\n",
       "      <th>3</th>\n",
       "      <td>D</td>\n",
       "      <td>0.143959</td>\n",
       "      <td>0.144793</td>\n",
       "      <td>0.882652</td>\n",
       "      <td>0.0</td>\n",
       "    </tr>\n",
       "    <tr>\n",
       "      <th>4</th>\n",
       "      <td>E</td>\n",
       "      <td>0.166737</td>\n",
       "      <td>0.167197</td>\n",
       "      <td>0.850765</td>\n",
       "      <td>0.0</td>\n",
       "    </tr>\n",
       "    <tr>\n",
       "      <th>5</th>\n",
       "      <td>F</td>\n",
       "      <td>0.195518</td>\n",
       "      <td>0.195528</td>\n",
       "      <td>0.818877</td>\n",
       "      <td>0.0</td>\n",
       "    </tr>\n",
       "    <tr>\n",
       "      <th>6</th>\n",
       "      <td>G</td>\n",
       "      <td>0.223201</td>\n",
       "      <td>0.224094</td>\n",
       "      <td>0.786990</td>\n",
       "      <td>0.0</td>\n",
       "    </tr>\n",
       "    <tr>\n",
       "      <th>7</th>\n",
       "      <td>H</td>\n",
       "      <td>0.247142</td>\n",
       "      <td>0.247457</td>\n",
       "      <td>0.755102</td>\n",
       "      <td>0.0</td>\n",
       "    </tr>\n",
       "    <tr>\n",
       "      <th>8</th>\n",
       "      <td>I</td>\n",
       "      <td>0.273405</td>\n",
       "      <td>0.274575</td>\n",
       "      <td>0.723214</td>\n",
       "      <td>0.0</td>\n",
       "    </tr>\n",
       "    <tr>\n",
       "      <th>9</th>\n",
       "      <td>J</td>\n",
       "      <td>0.313773</td>\n",
       "      <td>0.314785</td>\n",
       "      <td>0.691327</td>\n",
       "      <td>0.0</td>\n",
       "    </tr>\n",
       "    <tr>\n",
       "      <th>10</th>\n",
       "      <td>K</td>\n",
       "      <td>0.335320</td>\n",
       "      <td>0.339026</td>\n",
       "      <td>0.659439</td>\n",
       "      <td>0.0</td>\n",
       "    </tr>\n",
       "    <tr>\n",
       "      <th>11</th>\n",
       "      <td>L</td>\n",
       "      <td>0.369847</td>\n",
       "      <td>0.371434</td>\n",
       "      <td>0.627552</td>\n",
       "      <td>0.0</td>\n",
       "    </tr>\n",
       "    <tr>\n",
       "      <th>12</th>\n",
       "      <td>M</td>\n",
       "      <td>0.403660</td>\n",
       "      <td>0.403864</td>\n",
       "      <td>0.595664</td>\n",
       "      <td>0.0</td>\n",
       "    </tr>\n",
       "    <tr>\n",
       "      <th>13</th>\n",
       "      <td>N</td>\n",
       "      <td>0.444936</td>\n",
       "      <td>0.445579</td>\n",
       "      <td>0.563776</td>\n",
       "      <td>0.0</td>\n",
       "    </tr>\n",
       "    <tr>\n",
       "      <th>14</th>\n",
       "      <td>O</td>\n",
       "      <td>0.482250</td>\n",
       "      <td>0.484560</td>\n",
       "      <td>0.531889</td>\n",
       "      <td>0.0</td>\n",
       "    </tr>\n",
       "  </tbody>\n",
       "</table>\n",
       "</div>"
      ],
      "text/plain": [
       "   category      2.5%     97.5%  low_boundary  intersect_with_prev\n",
       "0         A  0.032157  0.035366      0.978315                  0.0\n",
       "1         B  0.076403  0.076961      0.946428                  0.0\n",
       "2         C  0.110897  0.111053      0.914540                  0.0\n",
       "3         D  0.143959  0.144793      0.882652                  0.0\n",
       "4         E  0.166737  0.167197      0.850765                  0.0\n",
       "5         F  0.195518  0.195528      0.818877                  0.0\n",
       "6         G  0.223201  0.224094      0.786990                  0.0\n",
       "7         H  0.247142  0.247457      0.755102                  0.0\n",
       "8         I  0.273405  0.274575      0.723214                  0.0\n",
       "9         J  0.313773  0.314785      0.691327                  0.0\n",
       "10        K  0.335320  0.339026      0.659439                  0.0\n",
       "11        L  0.369847  0.371434      0.627552                  0.0\n",
       "12        M  0.403660  0.403864      0.595664                  0.0\n",
       "13        N  0.444936  0.445579      0.563776                  0.0\n",
       "14        O  0.482250  0.484560      0.531889                  0.0"
      ]
     },
     "execution_count": 94,
     "metadata": {},
     "output_type": "execute_result"
    }
   ],
   "source": [
    "results_df"
   ]
  },
  {
   "cell_type": "code",
   "execution_count": 95,
   "metadata": {
    "hidden": true
   },
   "outputs": [
    {
     "name": "stdout",
     "output_type": "stream",
     "text": [
      "Итоговые категории: \n",
      "O : [ 0.5000 : 0.5319 ] \n",
      "N : [ 0.5319 :  0.5638 ] \n",
      "M : [ 0.5638 :  0.5957 ] \n",
      "L : [ 0.5957 :  0.6276 ] \n",
      "K : [ 0.6276 :  0.6594 ] \n",
      "J : [ 0.6594 :  0.6913 ] \n",
      "I : [ 0.6913 :  0.7232 ] \n",
      "H : [ 0.7232 :  0.7551 ] \n",
      "G : [ 0.7551 :  0.7870 ] \n",
      "F : [ 0.7870 :  0.8189 ] \n",
      "E : [ 0.8189 :  0.8508 ] \n",
      "D : [ 0.8508 :  0.8827 ] \n",
      "C : [ 0.8827 :  0.9145 ] \n",
      "B : [ 0.9145 :  0.9464 ] \n",
      "A : [  0.9464 :  1.0000 ] \n"
     ]
    }
   ],
   "source": [
    "print(f'Итоговые категории: ')\n",
    "print(f'{results_df.iloc[-1, 0]} : [ {0.5 :.4f} : {results_df.iloc[-1, 3]:.4f} ] ')\n",
    "for i in reversed(range(1, results_df.shape[0] - 1)):\n",
    "      print(f'{results_df.iloc[i, 0]} : [ {results_df.iloc[i+1, 3] :.4f} : {results_df.iloc[i, 3] : .4f} ] ')\n",
    "print(f'{results_df.iloc[0, 0]} : [ {results_df.iloc[1, 3] : .4f} : {1. : .4f} ] ')"
   ]
  },
  {
   "cell_type": "code",
   "execution_count": 96,
   "metadata": {
    "hidden": true
   },
   "outputs": [],
   "source": [
    "catboost_labels = results_df.category.values\n",
    "catboost_cutted_bins = results_df.low_boundary.values"
   ]
  },
  {
   "cell_type": "code",
   "execution_count": 97,
   "metadata": {
    "hidden": true
   },
   "outputs": [],
   "source": [
    "def calculate_new_category_catboost(score: float,\n",
    "                                  cutted_bins=catboost_cutted_bins, \n",
    "                                  labels=catboost_labels) -> str:\n",
    "    '''\n",
    "    score -- вероятность не-дефолта\n",
    "    '''\n",
    "    labels = labels[::-1]\n",
    "    cutted_bins = cutted_bins[::-1]\n",
    "    idx = (cutted_bins > score).argmax()\n",
    "    if score > cutted_bins[-1]:\n",
    "        return labels[-1]\n",
    "    return labels[idx]"
   ]
  },
  {
   "cell_type": "markdown",
   "metadata": {
    "hidden": true
   },
   "source": [
    "Примеры вычисления категорий. "
   ]
  },
  {
   "cell_type": "code",
   "execution_count": 98,
   "metadata": {
    "hidden": true
   },
   "outputs": [
    {
     "data": {
      "text/plain": [
       "'E'"
      ]
     },
     "execution_count": 98,
     "metadata": {},
     "output_type": "execute_result"
    }
   ],
   "source": [
    "calculate_new_category_catboost(0.82)"
   ]
  },
  {
   "cell_type": "code",
   "execution_count": 99,
   "metadata": {
    "hidden": true
   },
   "outputs": [
    {
     "data": {
      "text/plain": [
       "'F'"
      ]
     },
     "execution_count": 99,
     "metadata": {},
     "output_type": "execute_result"
    }
   ],
   "source": [
    "calculate_new_category_logreg(0.82)"
   ]
  },
  {
   "cell_type": "markdown",
   "metadata": {
    "heading_collapsed": true
   },
   "source": [
    "# 4.Проведите валидацию обеих построенных моделей, используя валидационную выборку."
   ]
  },
  {
   "cell_type": "markdown",
   "metadata": {
    "hidden": true
   },
   "source": [
    "4.a - в одних осях постройте гистограммы распределений скоринговых баллов для\n",
    "дефолтёров и не-дефолтёров."
   ]
  },
  {
   "cell_type": "code",
   "execution_count": 100,
   "metadata": {
    "hidden": true
   },
   "outputs": [
    {
     "ename": "NameError",
     "evalue": "name 'y_train' is not defined",
     "output_type": "error",
     "traceback": [
      "\u001b[0;31m---------------------------------------------------------------------------\u001b[0m",
      "\u001b[0;31mNameError\u001b[0m                                 Traceback (most recent call last)",
      "\u001b[0;32m<ipython-input-100-bca5adcfd034>\u001b[0m in \u001b[0;36m<module>\u001b[0;34m\u001b[0m\n\u001b[1;32m      1\u001b[0m \u001b[0mfinal_lr\u001b[0m \u001b[0;34m=\u001b[0m \u001b[0mLogisticRegression\u001b[0m\u001b[0;34m(\u001b[0m\u001b[0msolver\u001b[0m\u001b[0;34m=\u001b[0m\u001b[0;34m'lbfgs'\u001b[0m\u001b[0;34m)\u001b[0m\u001b[0;34m\u001b[0m\u001b[0;34m\u001b[0m\u001b[0m\n\u001b[0;32m----> 2\u001b[0;31m \u001b[0mfinal_lr\u001b[0m\u001b[0;34m.\u001b[0m\u001b[0mfit\u001b[0m\u001b[0;34m(\u001b[0m\u001b[0mX_train\u001b[0m\u001b[0;34m,\u001b[0m \u001b[0my_train\u001b[0m\u001b[0;34m)\u001b[0m\u001b[0;34m\u001b[0m\u001b[0;34m\u001b[0m\u001b[0m\n\u001b[0m",
      "\u001b[0;31mNameError\u001b[0m: name 'y_train' is not defined"
     ]
    }
   ],
   "source": [
    "final_lr = LogisticRegression(solver='lbfgs')\n",
    "final_lr.fit(X_train, y_train)"
   ]
  },
  {
   "cell_type": "code",
   "execution_count": null,
   "metadata": {
    "hidden": true
   },
   "outputs": [],
   "source": [
    "from project_lib.fourth_task_utils import plot_scoring_histograms"
   ]
  },
  {
   "cell_type": "code",
   "execution_count": null,
   "metadata": {
    "hidden": true
   },
   "outputs": [],
   "source": [
    "predicts_val_logreg = final_lr.predict_proba(X_final_test)[:, 1]"
   ]
  },
  {
   "cell_type": "code",
   "execution_count": null,
   "metadata": {
    "hidden": true
   },
   "outputs": [],
   "source": [
    "default_scores = np.round((1 - predicts_val_logreg)* 1000)"
   ]
  },
  {
   "cell_type": "code",
   "execution_count": null,
   "metadata": {
    "hidden": true
   },
   "outputs": [],
   "source": [
    "plot_scoring_histograms(default_scores[y_final_test == 0], default_scores[y_final_test == 1])"
   ]
  },
  {
   "cell_type": "markdown",
   "metadata": {
    "hidden": true
   },
   "source": [
    "4.b - Постройте CAP-кривую, отметив также идеальную модель и случайную, вычислите AUC\n",
    "и коэффициент Джини. Не забудьте доверительные интервалы для всех значений. Что\n",
    "можно сказать о качестве модели?"
   ]
  },
  {
   "cell_type": "code",
   "execution_count": null,
   "metadata": {
    "hidden": true
   },
   "outputs": [],
   "source": [
    "from project_lib.fourth_task_utils import plot_cap_curve"
   ]
  },
  {
   "cell_type": "markdown",
   "metadata": {
    "hidden": true
   },
   "source": [
    "LogReg:"
   ]
  },
  {
   "cell_type": "code",
   "execution_count": null,
   "metadata": {
    "hidden": true
   },
   "outputs": [],
   "source": [
    "arg = pd.DataFrame({\n",
    "    'default': y_final_test,\n",
    "    'probability_default': predicts_val_logreg\n",
    "})"
   ]
  },
  {
   "cell_type": "code",
   "execution_count": null,
   "metadata": {
    "hidden": true
   },
   "outputs": [],
   "source": [
    "plot_cap_curve(arg)"
   ]
  },
  {
   "cell_type": "code",
   "execution_count": null,
   "metadata": {
    "hidden": true
   },
   "outputs": [],
   "source": [
    "from project_lib.fourth_task_utils import bootstrap_ci"
   ]
  },
  {
   "cell_type": "code",
   "execution_count": null,
   "metadata": {
    "hidden": true
   },
   "outputs": [],
   "source": [
    "for ci_level in [95, 99]:\n",
    "    gini_low_level, gini_up_level = bootstrap_ci(final_lr, X_final_test, y_final_test,\n",
    "                                                 ci_level, 100, 0.7,\n",
    "                                                 lambda true, pred: 2*roc_auc_score(true, pred) - 1)\n",
    "    auc_low_level, auc_up_level = bootstrap_ci(final_lr, X_final_test, y_final_test,\n",
    "                                               ci_level, 100, 0.7,\n",
    "                                               lambda true, pred: roc_auc_score(true, pred))\n",
    "    print(f'gini {ci_level} conf int -> [{gini_low_level:.2f}; {gini_up_level:.2f}]')\n",
    "    print(f'auc {ci_level} conf int -> [{auc_low_level:.2f}; {auc_up_level:.2f}]')\n",
    "    print()"
   ]
  },
  {
   "cell_type": "markdown",
   "metadata": {
    "hidden": true
   },
   "source": [
    "Catboost:"
   ]
  },
  {
   "cell_type": "code",
   "execution_count": null,
   "metadata": {
    "hidden": true
   },
   "outputs": [],
   "source": []
  },
  {
   "cell_type": "markdown",
   "metadata": {
    "hidden": true
   },
   "source": [
    "4.c - Для каждого фактора, вошедшего в модель, оцените его индивидуальную значимость,\n",
    "посчитав коэффициент Джини. Не забудьте доверительные интервалы"
   ]
  },
  {
   "cell_type": "code",
   "execution_count": null,
   "metadata": {
    "hidden": true
   },
   "outputs": [],
   "source": [
    "from project_lib.fourth_task_utils import calc_gini_importances_for_features, plot_feature_importances"
   ]
  },
  {
   "cell_type": "markdown",
   "metadata": {
    "hidden": true
   },
   "source": [
    "LogReg:"
   ]
  },
  {
   "cell_type": "code",
   "execution_count": null,
   "metadata": {
    "hidden": true
   },
   "outputs": [],
   "source": [
    "log_reg_importances = calc_gini_importances_for_features(final_lr, X_train, y_train, X_final_test, y_final_test)"
   ]
  },
  {
   "cell_type": "code",
   "execution_count": null,
   "metadata": {
    "hidden": true
   },
   "outputs": [],
   "source": [
    "log_reg_importances.sort_values('gini solo feature', ascending=False)"
   ]
  },
  {
   "cell_type": "code",
   "execution_count": null,
   "metadata": {
    "hidden": true
   },
   "outputs": [],
   "source": [
    "plot_feature_importances(log_reg_importances)"
   ]
  },
  {
   "cell_type": "markdown",
   "metadata": {
    "hidden": true
   },
   "source": [
    "Catboost:"
   ]
  },
  {
   "cell_type": "markdown",
   "metadata": {
    "hidden": true
   },
   "source": [
    "4.d Определить какой инкрементальный вклад вносит каждый из факторов в итоговый коэффициент Джини модели. "
   ]
  },
  {
   "cell_type": "markdown",
   "metadata": {
    "hidden": true
   },
   "source": [
    "LogReg:"
   ]
  },
  {
   "cell_type": "code",
   "execution_count": null,
   "metadata": {
    "hidden": true
   },
   "outputs": [],
   "source": [
    "from project_lib.fourth_task_utils import calc_feature_contribution"
   ]
  },
  {
   "cell_type": "code",
   "execution_count": null,
   "metadata": {
    "hidden": true,
    "scrolled": true
   },
   "outputs": [],
   "source": [
    "res_table = calc_feature_contribution(final_lr, X_train, y_train, X_final_test, y_final_test)"
   ]
  },
  {
   "cell_type": "code",
   "execution_count": null,
   "metadata": {
    "hidden": true
   },
   "outputs": [],
   "source": [
    "plt.figure(figsize=(15, 8))\n",
    "plt.title('feature gini contribution')\n",
    "res_table = res_table.sort_values('gini contribution', ascending=False)\n",
    "plt.bar(res_table.index, res_table['gini contribution'] * 100)\n",
    "plt.xticks(rotation='90')\n",
    "plt.ylabel('gini contribution (%)')\n",
    "plt.grid()\n",
    "plt.show()"
   ]
  },
  {
   "cell_type": "markdown",
   "metadata": {
    "hidden": true
   },
   "source": [
    "Catboost:"
   ]
  },
  {
   "cell_type": "code",
   "execution_count": null,
   "metadata": {
    "hidden": true
   },
   "outputs": [],
   "source": []
  },
  {
   "cell_type": "markdown",
   "metadata": {
    "hidden": true
   },
   "source": [
    "4.e Оцените динамику коэффициента Джини во времени. Убедитесь в том, что модель стабильно ранжирует наблюдения на всех временных срезах, и отсутствуют периоды, в которых ранжирующая способность модели недостаточна "
   ]
  },
  {
   "cell_type": "markdown",
   "metadata": {
    "hidden": true
   },
   "source": [
    "LogReg:"
   ]
  },
  {
   "cell_type": "code",
   "execution_count": null,
   "metadata": {
    "hidden": true
   },
   "outputs": [],
   "source": [
    "from project_lib.fourth_task_utils import plot_time_stability"
   ]
  },
  {
   "cell_type": "code",
   "execution_count": null,
   "metadata": {
    "hidden": true
   },
   "outputs": [],
   "source": [
    "final_lr.fit(X_train, y_train)"
   ]
  },
  {
   "cell_type": "code",
   "execution_count": null,
   "metadata": {
    "hidden": true
   },
   "outputs": [],
   "source": [
    "plot_time_stability(final_lr, issue_d_final_test, X_final_test, y_final_test)"
   ]
  },
  {
   "cell_type": "markdown",
   "metadata": {
    "hidden": true
   },
   "source": [
    "Catboost:"
   ]
  },
  {
   "cell_type": "code",
   "execution_count": null,
   "metadata": {
    "hidden": true
   },
   "outputs": [],
   "source": []
  },
  {
   "cell_type": "markdown",
   "metadata": {
    "hidden": true
   },
   "source": [
    "4.f Оцените экономический смысл разбиения всех переменных на именно такие категории. Гистограмма — это распределение всех заёмщиков по категориям (какой процент всех имеет именно такое значение), а линия — процент дефолтов в этой категории. "
   ]
  },
  {
   "cell_type": "code",
   "execution_count": null,
   "metadata": {
    "hidden": true
   },
   "outputs": [],
   "source": [
    "from project_lib.fourth_task_utils import plot_categories_val_test"
   ]
  },
  {
   "cell_type": "code",
   "execution_count": null,
   "metadata": {
    "hidden": true
   },
   "outputs": [],
   "source": [
    "plot_categories_val_test(final_lr, X_test, y_test, X_final_test, y_final_test, calculate_new_category_logreg)"
   ]
  },
  {
   "cell_type": "code",
   "execution_count": null,
   "metadata": {
    "hidden": true
   },
   "outputs": [],
   "source": [
    "logreg_cutted_bins"
   ]
  },
  {
   "cell_type": "markdown",
   "metadata": {
    "hidden": true
   },
   "source": [
    "4.g Оцените, насколько реализованная дефолтность на валидационной выборке отличается от предсказанной: i. При помощи модели оцените среднюю дефолтность на валидационной выборке вместе с доверительными интервалами. ii. Постройте иллюстрацию (только цвета поприличнее, пожалуйста). "
   ]
  },
  {
   "cell_type": "code",
   "execution_count": null,
   "metadata": {
    "hidden": true
   },
   "outputs": [],
   "source": [
    "from project_lib.fourth_task_utils import plot_default_comparison"
   ]
  },
  {
   "cell_type": "markdown",
   "metadata": {
    "hidden": true
   },
   "source": [
    "LogReg:"
   ]
  },
  {
   "cell_type": "code",
   "execution_count": null,
   "metadata": {
    "hidden": true
   },
   "outputs": [],
   "source": [
    "rate_95 = bootstrap_ci(final_lr, X_final_test, y_final_test, 95, 100, 0.7, lambda _, preds: (preds >= 0.5).mean())\n",
    "rate_99 = bootstrap_ci(final_lr, X_final_test, y_final_test, 99, 100, 0.7, lambda _, preds: (preds >= 0.5).mean())"
   ]
  },
  {
   "cell_type": "code",
   "execution_count": null,
   "metadata": {
    "hidden": true
   },
   "outputs": [],
   "source": [
    "predicted_rate = default_rate(y_final_test, final_lr.predict_proba(X_final_test)[:, 1])\n",
    "true_rate = (y_final_test.sum() / y_final_test.shape[0])\n",
    "plot_default_comparison(predicted_rate, true_rate, rate_95, rate_99)"
   ]
  },
  {
   "cell_type": "markdown",
   "metadata": {
    "hidden": true
   },
   "source": [
    "Catboost:"
   ]
  },
  {
   "cell_type": "code",
   "execution_count": null,
   "metadata": {
    "hidden": true
   },
   "outputs": [],
   "source": []
  },
  {
   "cell_type": "markdown",
   "metadata": {
    "hidden": true
   },
   "source": [
    "4.h То же самое, но в разрезе по внутренним рейтингам. "
   ]
  },
  {
   "cell_type": "code",
   "execution_count": null,
   "metadata": {
    "hidden": true
   },
   "outputs": [],
   "source": [
    "from project_lib.fourth_task_utils import plot_default_comparison_by_category"
   ]
  },
  {
   "cell_type": "code",
   "execution_count": null,
   "metadata": {
    "hidden": true
   },
   "outputs": [],
   "source": [
    "plot_default_comparison_by_category(final_lr, X_final_test, y_final_test, calculate_new_category_logreg)"
   ]
  },
  {
   "cell_type": "markdown",
   "metadata": {
    "hidden": true
   },
   "source": [
    "4.i Сравните разделяющую способность модели на тестовой и валидационной выборках. Не забудьте доверительные интервалы."
   ]
  },
  {
   "cell_type": "code",
   "execution_count": null,
   "metadata": {
    "hidden": true
   },
   "outputs": [],
   "source": [
    "from project_lib.fourth_task_utils import calc_score_with_ci, plot_val_test_gini"
   ]
  },
  {
   "cell_type": "code",
   "execution_count": null,
   "metadata": {
    "hidden": true
   },
   "outputs": [],
   "source": [
    "plt.hist(final_lr.predict_proba(X_final_test)[:, 0])"
   ]
  },
  {
   "cell_type": "markdown",
   "metadata": {
    "hidden": true
   },
   "source": [
    "LogReg:"
   ]
  },
  {
   "cell_type": "code",
   "execution_count": null,
   "metadata": {
    "hidden": true
   },
   "outputs": [],
   "source": [
    "final_lr.fit(X_train, y_train)"
   ]
  },
  {
   "cell_type": "code",
   "execution_count": null,
   "metadata": {
    "hidden": true
   },
   "outputs": [],
   "source": [
    "test_gini_ci = calc_score_with_ci(final_lr, X_test, y_test)\n",
    "test_final_gini_ci = calc_score_with_ci(final_lr, X_final_test, y_final_test)"
   ]
  },
  {
   "cell_type": "code",
   "execution_count": null,
   "metadata": {
    "hidden": true
   },
   "outputs": [],
   "source": [
    "test_gini_ci"
   ]
  },
  {
   "cell_type": "code",
   "execution_count": null,
   "metadata": {
    "hidden": true
   },
   "outputs": [],
   "source": [
    "plot_val_test_gini(test_gini_ci, test_final_gini_ci)"
   ]
  },
  {
   "cell_type": "markdown",
   "metadata": {
    "hidden": true
   },
   "source": [
    "Catboost:"
   ]
  },
  {
   "cell_type": "code",
   "execution_count": null,
   "metadata": {
    "hidden": true
   },
   "outputs": [],
   "source": []
  },
  {
   "cell_type": "markdown",
   "metadata": {
    "hidden": true
   },
   "source": [
    "4.j Сравните индивидуальную разделяющую способность отдельных факторов на тестовой и валидационной выборках. Не забудьте доверительные интервалы."
   ]
  },
  {
   "cell_type": "code",
   "execution_count": null,
   "metadata": {
    "hidden": true
   },
   "outputs": [],
   "source": [
    "from project_lib.fourth_task_utils import plot_val_test_comparison_by_feature"
   ]
  },
  {
   "cell_type": "markdown",
   "metadata": {
    "hidden": true
   },
   "source": [
    "LogReg:"
   ]
  },
  {
   "cell_type": "code",
   "execution_count": null,
   "metadata": {
    "hidden": true
   },
   "outputs": [],
   "source": [
    "test_importances = calc_gini_importances_for_features(final_lr, X_train, y_train, X_test, y_test)\n",
    "final_test_importances = calc_gini_importances_for_features(final_lr, X_train, y_train, X_final_test, y_final_test)"
   ]
  },
  {
   "cell_type": "code",
   "execution_count": null,
   "metadata": {
    "hidden": true
   },
   "outputs": [],
   "source": [
    "test_importances"
   ]
  },
  {
   "cell_type": "code",
   "execution_count": null,
   "metadata": {
    "hidden": true,
    "scrolled": false
   },
   "outputs": [],
   "source": [
    "features = test_importances.index\n",
    "for feature_subset in np.array_split(features, 5):\n",
    "    plot_val_test_comparison_by_feature(\n",
    "        test_importances.loc[feature_subset],\n",
    "        final_test_importances.loc[feature_subset]\n",
    "    )"
   ]
  },
  {
   "cell_type": "markdown",
   "metadata": {
    "hidden": true
   },
   "source": [
    "Catboost:"
   ]
  },
  {
   "cell_type": "markdown",
   "metadata": {},
   "source": [
    "# Задание 5"
   ]
  },
  {
   "cell_type": "code",
   "execution_count": 101,
   "metadata": {},
   "outputs": [],
   "source": [
    "model1_name = \"Logistic Regression\"\n",
    "model2_name = \"Our Model\"\n",
    "exp_capital_row_name = \"Expected Capital (%)\"\n",
    "var_row_name = \"VaR (%)\"\n",
    "req_capital_row_name = \"Required Capital (%)\""
   ]
  },
  {
   "cell_type": "markdown",
   "metadata": {},
   "source": [
    "## Vasicek"
   ]
  },
  {
   "cell_type": "code",
   "execution_count": 102,
   "metadata": {},
   "outputs": [],
   "source": [
    "model1 = TRAIN_FULL_LR_MODEL\n",
    "model2 = TRAIN_FULL_CATBOOST_MODEL\n",
    "\n",
    "result_no_corr = pd.DataFrame(columns=[model1_name, model2_name],\n",
    "                              index=[exp_capital_row_name, var_row_name, req_capital_row_name])\n",
    "result_corr = pd.DataFrame(columns=[model1_name, model2_name],\n",
    "                           index=[exp_capital_row_name, var_row_name, req_capital_row_name])\n",
    "\n",
    "model1_exposures = TEST_DATA.loc[TEST_WOE.index, \"funded_amnt\"].values\n",
    "model1_exp_loss = project_lib.default_stats.calc_expected_loss(model1, TEST_WOE.loc[:, LR_FEATURES],\n",
    "                                                               model1_exposures)\n",
    "model2_exposures = TEST_DATA.loc[TEST_CATBOOST.index, \"funded_amnt\"].values\n",
    "model2_exp_loss = project_lib.default_stats.calc_expected_loss(model2, TEST_CATBOOST.drop(\"default\", axis=1), \n",
    "                                                               model2_exposures)\n",
    "\n",
    "result_no_corr.loc[exp_capital_row_name, model1_name] = round(model1_exp_loss / model1_exposures.sum() * 100, 2)\n",
    "result_no_corr.loc[exp_capital_row_name, model2_name] = round(model2_exp_loss / model2_exposures.sum() * 100, 2)\n",
    "result_corr.loc[exp_capital_row_name, model1_name] = round(model1_exp_loss / model1_exposures.sum() * 100, 2)\n",
    "result_corr.loc[exp_capital_row_name, model2_name] = round(model2_exp_loss / model2_exposures.sum() * 100, 2)\n",
    "\n",
    "var, req_capital = project_lib.default_stats.calc_var_and_req_capital(model1, TEST_WOE.loc[:, LR_FEATURES], 0, \n",
    "                                                                      model1_exp_loss, model1_exposures, \n",
    "                                                                      0.995)\n",
    "result_no_corr.loc[var_row_name, model1_name] = var \n",
    "result_no_corr.loc[req_capital_row_name, model1_name] = req_capital \n",
    "\n",
    "var, req_capital = project_lib.default_stats.calc_var_and_req_capital(model1, TEST_WOE.loc[:, LR_FEATURES], \n",
    "                                                                      0.06, model2_exp_loss, \n",
    "                                                                      model1_exposures, 0.995)\n",
    "result_corr.loc[var_row_name, model1_name] = var \n",
    "result_corr.loc[req_capital_row_name, model1_name] = req_capital \n",
    "\n",
    "var, req_capital = project_lib.default_stats.calc_var_and_req_capital(model2, \n",
    "                                                                      TEST_CATBOOST.drop(\"default\", axis=1), 0, \n",
    "                                                                      model2_exp_loss, model2_exposures, 0.995)\n",
    "result_no_corr.loc[var_row_name, model2_name] = var \n",
    "result_no_corr.loc[req_capital_row_name, model2_name] = req_capital \n",
    "\n",
    "var, req_capital = project_lib.default_stats.calc_var_and_req_capital(model2, \n",
    "                                                                      TEST_CATBOOST.drop(\"default\", axis=1),\n",
    "                                                                      0.06, model2_exp_loss, model2_exposures,\n",
    "                                                                      0.995)\n",
    "result_corr.loc[var_row_name, model2_name] = var \n",
    "result_corr.loc[req_capital_row_name, model2_name] = req_capital "
   ]
  },
  {
   "cell_type": "code",
   "execution_count": 103,
   "metadata": {},
   "outputs": [
    {
     "data": {
      "text/html": [
       "<div>\n",
       "<style scoped>\n",
       "    .dataframe tbody tr th:only-of-type {\n",
       "        vertical-align: middle;\n",
       "    }\n",
       "\n",
       "    .dataframe tbody tr th {\n",
       "        vertical-align: top;\n",
       "    }\n",
       "\n",
       "    .dataframe thead th {\n",
       "        text-align: right;\n",
       "    }\n",
       "</style>\n",
       "<table border=\"1\" class=\"dataframe\">\n",
       "  <thead>\n",
       "    <tr style=\"text-align: right;\">\n",
       "      <th></th>\n",
       "      <th>Logistic Regression</th>\n",
       "      <th>Our Model</th>\n",
       "    </tr>\n",
       "  </thead>\n",
       "  <tbody>\n",
       "    <tr>\n",
       "      <th>Expected Capital (%)</th>\n",
       "      <td>20.71</td>\n",
       "      <td>27.74</td>\n",
       "    </tr>\n",
       "    <tr>\n",
       "      <th>VaR (%)</th>\n",
       "      <td>20.71</td>\n",
       "      <td>27.74</td>\n",
       "    </tr>\n",
       "    <tr>\n",
       "      <th>Required Capital (%)</th>\n",
       "      <td>0</td>\n",
       "      <td>-0</td>\n",
       "    </tr>\n",
       "  </tbody>\n",
       "</table>\n",
       "</div>"
      ],
      "text/plain": [
       "                     Logistic Regression Our Model\n",
       "Expected Capital (%)               20.71     27.74\n",
       "VaR (%)                            20.71     27.74\n",
       "Required Capital (%)                   0        -0"
      ]
     },
     "execution_count": 103,
     "metadata": {},
     "output_type": "execute_result"
    }
   ],
   "source": [
    "result_no_corr"
   ]
  },
  {
   "cell_type": "code",
   "execution_count": 104,
   "metadata": {},
   "outputs": [
    {
     "data": {
      "text/html": [
       "<div>\n",
       "<style scoped>\n",
       "    .dataframe tbody tr th:only-of-type {\n",
       "        vertical-align: middle;\n",
       "    }\n",
       "\n",
       "    .dataframe tbody tr th {\n",
       "        vertical-align: top;\n",
       "    }\n",
       "\n",
       "    .dataframe thead th {\n",
       "        text-align: right;\n",
       "    }\n",
       "</style>\n",
       "<table border=\"1\" class=\"dataframe\">\n",
       "  <thead>\n",
       "    <tr style=\"text-align: right;\">\n",
       "      <th></th>\n",
       "      <th>Logistic Regression</th>\n",
       "      <th>Our Model</th>\n",
       "    </tr>\n",
       "  </thead>\n",
       "  <tbody>\n",
       "    <tr>\n",
       "      <th>Expected Capital (%)</th>\n",
       "      <td>20.71</td>\n",
       "      <td>27.74</td>\n",
       "    </tr>\n",
       "    <tr>\n",
       "      <th>VaR (%)</th>\n",
       "      <td>40.17</td>\n",
       "      <td>48.97</td>\n",
       "    </tr>\n",
       "    <tr>\n",
       "      <th>Required Capital (%)</th>\n",
       "      <td>12.43</td>\n",
       "      <td>21.23</td>\n",
       "    </tr>\n",
       "  </tbody>\n",
       "</table>\n",
       "</div>"
      ],
      "text/plain": [
       "                     Logistic Regression Our Model\n",
       "Expected Capital (%)               20.71     27.74\n",
       "VaR (%)                            40.17     48.97\n",
       "Required Capital (%)               12.43     21.23"
      ]
     },
     "execution_count": 104,
     "metadata": {},
     "output_type": "execute_result"
    }
   ],
   "source": [
    "result_corr"
   ]
  },
  {
   "cell_type": "markdown",
   "metadata": {},
   "source": [
    "## Monte Carlo"
   ]
  },
  {
   "cell_type": "code",
   "execution_count": 105,
   "metadata": {},
   "outputs": [
    {
     "data": {
      "application/vnd.jupyter.widget-view+json": {
       "model_id": "6e93a30b7fcb494d9cf88c922b064717",
       "version_major": 2,
       "version_minor": 0
      },
      "text/plain": [
       "HBox(children=(FloatProgress(value=0.0, max=1000.0), HTML(value='')))"
      ]
     },
     "metadata": {},
     "output_type": "display_data"
    },
    {
     "name": "stdout",
     "output_type": "stream",
     "text": [
      "\n"
     ]
    }
   ],
   "source": [
    "result_no_corr = pd.DataFrame(columns=[model1_name, model2_name],\n",
    "                              index=[exp_capital_row_name, var_row_name, req_capital_row_name])\n",
    "result_corr = pd.DataFrame(columns=[model1_name, model2_name],\n",
    "                           index=[exp_capital_row_name, var_row_name, req_capital_row_name])\n",
    "\n",
    "monte_carlo_iters_amount = 1000\n",
    "model1_losses_distribution_no_corr = np.empty(monte_carlo_iters_amount)\n",
    "model1_losses_distribution_corr = np.empty(monte_carlo_iters_amount)\n",
    "model1_predicted_probs = model1.predict_proba(TEST_WOE.loc[:, LR_FEATURES])[:, 1]\n",
    "\n",
    "model2_losses_distribution_no_corr = np.empty(monte_carlo_iters_amount)\n",
    "model2_losses_distribution_corr = np.empty(monte_carlo_iters_amount)\n",
    "model2_predicted_probs = model2.predict_proba(TEST_CATBOOST.drop(\"default\", axis=1))[:, 1]\n",
    "\n",
    "for i in tqdm_notebook(range(monte_carlo_iters_amount)):\n",
    "    scenario = np.random.randn()\n",
    "    \n",
    "    model1_losses_distribution_no_corr[i] = simulate_total_loss(model1_predicted_probs, model1_exposures)\n",
    "    model2_losses_distribution_no_corr[i] = simulate_total_loss(model2_predicted_probs, model2_exposures)\n",
    "    \n",
    "    model1_corr_probs = project_lib.default_stats.vasicek_cond_probs(model1_predicted_probs, scenario, 0.06)\n",
    "    model1_losses_distribution_corr[i] = simulate_total_loss(model1_corr_probs, model1_exposures)\n",
    "    model2_corr_probs = project_lib.default_stats.vasicek_cond_probs(model2_predicted_probs, scenario, 0.06)\n",
    "    model2_losses_distribution_corr[i] = simulate_total_loss(model2_corr_probs, model2_exposures)"
   ]
  },
  {
   "cell_type": "code",
   "execution_count": 106,
   "metadata": {
    "code_folding": []
   },
   "outputs": [
    {
     "data": {
      "text/html": [
       "<div>\n",
       "<style scoped>\n",
       "    .dataframe tbody tr th:only-of-type {\n",
       "        vertical-align: middle;\n",
       "    }\n",
       "\n",
       "    .dataframe tbody tr th {\n",
       "        vertical-align: top;\n",
       "    }\n",
       "\n",
       "    .dataframe thead th {\n",
       "        text-align: right;\n",
       "    }\n",
       "</style>\n",
       "<table border=\"1\" class=\"dataframe\">\n",
       "  <thead>\n",
       "    <tr style=\"text-align: right;\">\n",
       "      <th></th>\n",
       "      <th>Logistic Regression</th>\n",
       "      <th>Our Model</th>\n",
       "    </tr>\n",
       "  </thead>\n",
       "  <tbody>\n",
       "    <tr>\n",
       "      <th>Expected Capital (%)</th>\n",
       "      <td>20.71</td>\n",
       "      <td>27.74</td>\n",
       "    </tr>\n",
       "    <tr>\n",
       "      <th>VaR (%)</th>\n",
       "      <td>20.94 &lt;= 20.97 &lt;= 21.0</td>\n",
       "      <td>27.98 &lt;= 28.02 &lt;= 28.05</td>\n",
       "    </tr>\n",
       "    <tr>\n",
       "      <th>Required Capital (%)</th>\n",
       "      <td>0.26</td>\n",
       "      <td>0.28</td>\n",
       "    </tr>\n",
       "  </tbody>\n",
       "</table>\n",
       "</div>"
      ],
      "text/plain": [
       "                         Logistic Regression                Our Model\n",
       "Expected Capital (%)                   20.71                    27.74\n",
       "VaR (%)               20.94 <= 20.97 <= 21.0  27.98 <= 28.02 <= 28.05\n",
       "Required Capital (%)                    0.26                     0.28"
      ]
     },
     "execution_count": 106,
     "metadata": {},
     "output_type": "execute_result"
    }
   ],
   "source": [
    "model1_exp_loss_no_corr = round(model1_losses_distribution_no_corr.mean(), 4) * 100\n",
    "model2_exp_loss_no_corr = round(model2_losses_distribution_no_corr.mean(), 4) * 100\n",
    "result_no_corr.loc[exp_capital_row_name, :] = [model1_exp_loss_no_corr, model2_exp_loss_no_corr]\n",
    "model1_var_no_corr, model1_ci = project_lib.default_stats.calc_mc_var_and_ci(model1_losses_distribution_no_corr,\n",
    "                                                                             99.5)\n",
    "result_no_corr.loc[var_row_name, model1_name] = model1_ci\n",
    "result_no_corr.loc[req_capital_row_name, model1_name] = model1_var_no_corr - model1_exp_loss_no_corr\n",
    "model2_var_no_corr, model2_ci = project_lib.default_stats.calc_mc_var_and_ci(model2_losses_distribution_no_corr,\n",
    "                                                                             99.5)\n",
    "result_no_corr.loc[var_row_name, model2_name] = model2_ci\n",
    "result_no_corr.loc[req_capital_row_name, model2_name] = model2_var_no_corr - model2_exp_loss_no_corr\n",
    "\n",
    "result_no_corr"
   ]
  },
  {
   "cell_type": "code",
   "execution_count": 107,
   "metadata": {},
   "outputs": [
    {
     "data": {
      "text/html": [
       "<div>\n",
       "<style scoped>\n",
       "    .dataframe tbody tr th:only-of-type {\n",
       "        vertical-align: middle;\n",
       "    }\n",
       "\n",
       "    .dataframe tbody tr th {\n",
       "        vertical-align: top;\n",
       "    }\n",
       "\n",
       "    .dataframe thead th {\n",
       "        text-align: right;\n",
       "    }\n",
       "</style>\n",
       "<table border=\"1\" class=\"dataframe\">\n",
       "  <thead>\n",
       "    <tr style=\"text-align: right;\">\n",
       "      <th></th>\n",
       "      <th>Logistic Regression</th>\n",
       "      <th>Our Model</th>\n",
       "    </tr>\n",
       "  </thead>\n",
       "  <tbody>\n",
       "    <tr>\n",
       "      <th>Expected Capital (%)</th>\n",
       "      <td>20.51</td>\n",
       "      <td>27.5</td>\n",
       "    </tr>\n",
       "    <tr>\n",
       "      <th>VaR (%)</th>\n",
       "      <td>39.12 &lt;= 40.41 &lt;= 42.1</td>\n",
       "      <td>47.71 &lt;= 49.05 &lt;= 50.78</td>\n",
       "    </tr>\n",
       "    <tr>\n",
       "      <th>Required Capital (%)</th>\n",
       "      <td>19.9</td>\n",
       "      <td>21.55</td>\n",
       "    </tr>\n",
       "  </tbody>\n",
       "</table>\n",
       "</div>"
      ],
      "text/plain": [
       "                         Logistic Regression                Our Model\n",
       "Expected Capital (%)                   20.51                     27.5\n",
       "VaR (%)               39.12 <= 40.41 <= 42.1  47.71 <= 49.05 <= 50.78\n",
       "Required Capital (%)                    19.9                    21.55"
      ]
     },
     "execution_count": 107,
     "metadata": {},
     "output_type": "execute_result"
    }
   ],
   "source": [
    "model1_exp_loss_corr = round(model1_losses_distribution_corr.mean(), 4) * 100\n",
    "model2_exp_loss_corr = round(model2_losses_distribution_corr.mean(), 4) * 100\n",
    "\n",
    "result_corr.loc[exp_capital_row_name, :] = [model1_exp_loss_corr, model2_exp_loss_corr]\n",
    "model1_var_corr, model1_ci = project_lib.default_stats.calc_mc_var_and_ci(model1_losses_distribution_corr, 99.5)\n",
    "\n",
    "result_corr.loc[var_row_name, model1_name] = model1_ci\n",
    "result_corr.loc[req_capital_row_name, model1_name] = model1_var_corr - model1_exp_loss_corr\n",
    "\n",
    "model2_var_corr, model2_ci = project_lib.default_stats.calc_mc_var_and_ci(model2_losses_distribution_corr, 99.5)\n",
    "result_corr.loc[var_row_name, model2_name] = model2_ci\n",
    "result_corr.loc[req_capital_row_name, model2_name] = model2_var_corr - model2_exp_loss_corr\n",
    "\n",
    "result_corr"
   ]
  },
  {
   "cell_type": "code",
   "execution_count": 108,
   "metadata": {},
   "outputs": [],
   "source": [
    "real_losses = TEST_DATA.loc[TEST_DATA[\"default\"], \"funded_amnt\"].sum() / TEST_DATA[\"funded_amnt\"].sum() * 100\n",
    "project_lib.default_stats.plot_defaults_distributions(model1_name, False, model1_losses_distribution_no_corr,\n",
    "                                                      model1_exp_loss_no_corr, model1_var_no_corr, real_losses)"
   ]
  },
  {
   "cell_type": "code",
   "execution_count": 109,
   "metadata": {},
   "outputs": [],
   "source": [
    "project_lib.default_stats.plot_defaults_distributions(model2_name, False, model2_losses_distribution_no_corr,\n",
    "                                                      model2_exp_loss_no_corr, model2_var_no_corr, real_losses)"
   ]
  },
  {
   "cell_type": "code",
   "execution_count": 110,
   "metadata": {},
   "outputs": [],
   "source": [
    "project_lib.default_stats.plot_defaults_distributions(model1_name, True, model1_losses_distribution_corr,\n",
    "                                                      model1_exp_loss_corr, model1_var_corr, real_losses)"
   ]
  },
  {
   "cell_type": "code",
   "execution_count": 111,
   "metadata": {},
   "outputs": [],
   "source": [
    "project_lib.default_stats.plot_defaults_distributions(model2_name, True, model2_losses_distribution_corr,\n",
    "                                                      model2_exp_loss_corr, model2_var_corr, real_losses)"
   ]
  },
  {
   "cell_type": "markdown",
   "metadata": {},
   "source": [
    "# Задание 6"
   ]
  },
  {
   "cell_type": "markdown",
   "metadata": {},
   "source": [
    "Принимая LGD=100%, рассчитайте для обеих моделей по обучающей выборке порог отсечения, максимизирующий ожидаемую прибыль от кредитования. Постройте графики зависимости ожидаемой прибыли от порога отсечения (для двух моделей в одних осях)."
   ]
  },
  {
   "cell_type": "code",
   "execution_count": 100,
   "metadata": {},
   "outputs": [],
   "source": [
    "train_pd_calc = TRAIN_FULL_CATBOOST[['funded_amnt', 'installment', 'int_rate', 'term', 'default']].copy(deep=True)"
   ]
  },
  {
   "cell_type": "code",
   "execution_count": 101,
   "metadata": {},
   "outputs": [],
   "source": [
    "X_test_calc = TRAIN_FULL_CATBOOST.iloc[TRAIN_VAL_WOE.index.values, :]"
   ]
  },
  {
   "cell_type": "code",
   "execution_count": 102,
   "metadata": {},
   "outputs": [],
   "source": [
    "predicts_test_catboost = TRAIN_TRAIN_CATBOOST_MODEL.predict_proba(\n",
    "    TRAIN_VAL_CATBOOST[1:].drop('default', axis=1))"
   ]
  },
  {
   "cell_type": "code",
   "execution_count": 103,
   "metadata": {},
   "outputs": [],
   "source": [
    "predicts_test_logreg = TRAIN_TRAIN_LR_MODEL.predict_proba(TRAIN_VAL_WOE.loc[:, LR_FEATURES])"
   ]
  },
  {
   "cell_type": "code",
   "execution_count": 104,
   "metadata": {},
   "outputs": [],
   "source": [
    "def calc_pnl(df_for_calc: pd.DataFrame,\n",
    "                predicts: pd.Series, \n",
    "                threshold = 0.5):\n",
    "    '''\n",
    "    threshold -- вероятность НЕ-дефолта\n",
    "    '''\n",
    "    df = df_for_calc.copy(deep=True)\n",
    "    df['predict'] = predicts[:, 0]\n",
    "    df_profit = df[(df.predict > threshold) & (df.default == False)]\n",
    "    df_loss = df[(df.predict > threshold) & (df.default == True)]\n",
    "    profit_col = df_profit.installment * df_profit.term.apply(lambda x: int(x[:3])) - df_profit.funded_amnt\n",
    "    profit = profit_col.sum()\n",
    "    loss = df_loss.funded_amnt.sum()\n",
    "    return profit - loss"
   ]
  },
  {
   "cell_type": "code",
   "execution_count": 105,
   "metadata": {},
   "outputs": [],
   "source": [
    "threshold_space = [threshold for threshold in np.linspace(0.5, 0.99, 500)]"
   ]
  },
  {
   "cell_type": "code",
   "execution_count": 106,
   "metadata": {},
   "outputs": [],
   "source": [
    "pnl_array_logreg = []\n",
    "pnl_array_catboost = []\n",
    "for threshold in threshold_space:\n",
    "    pnl_array_logreg.append(calc_pnl(X_test_calc, \n",
    "                              predicts_test_logreg, \n",
    "                              threshold=threshold))\n",
    "    pnl_array_catboost.append(calc_pnl(\n",
    "                              X_test_calc,\n",
    "                              predicts_test_catboost,\n",
    "                              threshold=threshold))"
   ]
  },
  {
   "cell_type": "code",
   "execution_count": 107,
   "metadata": {},
   "outputs": [
    {
     "name": "stdout",
     "output_type": "stream",
     "text": [
      "Оптимальный порог отсечения для логистической регрессии:  0.9134\n",
      "Ожидаемая прибыль при этом пороге:  21.9722 миллионов у.е.\n",
      "\n",
      "Оптимальный порог отсечения для гб над решающими деревьями:  0.8565\n",
      "Ожидаемая прибыль при этом пороге:  40.2553 миллионов у.е.\n"
     ]
    }
   ],
   "source": [
    "print(f'Оптимальный порог отсечения для логистической регрессии: {threshold_space[np.argmax(pnl_array_logreg)]: .4f}')\n",
    "print(f'Ожидаемая прибыль при этом пороге: {np.max(np.array(pnl_array_logreg) / 1000000): .4f} миллионов у.е.\\n')\n",
    "\n",
    "print(f'Оптимальный порог отсечения для гб над решающими деревьями: {threshold_space[np.argmax(pnl_array_catboost)]: .4f}')\n",
    "print(f'Ожидаемая прибыль при этом пороге: {np.max(np.array(pnl_array_catboost) / 1000000): .4f} миллионов у.е.')"
   ]
  },
  {
   "cell_type": "code",
   "execution_count": 108,
   "metadata": {},
   "outputs": [
    {
     "data": {
      "text/plain": [
       "<matplotlib.legend.Legend at 0x1dbcd6490>"
      ]
     },
     "execution_count": 108,
     "metadata": {},
     "output_type": "execute_result"
    }
   ],
   "source": [
    "plt.figure(figsize = (20, 15))\n",
    "plt.grid()\n",
    "plt.title('Ожидаемая прибыль от кредитования для двух моделей для разных порогов', fontsize=18)\n",
    "plt.plot(threshold_space, pnl_array_logreg, label='Логистическая регрессия с WOE', marker='o')\n",
    "plt.plot(threshold_space, pnl_array_catboost, marker='o', label ='ГБ над решающими деревьями')\n",
    "\n",
    "\n",
    "x_coordinates = [np.min(threshold_space), 1]\n",
    "y_coordinates_logreg = [np.max(pnl_array_logreg), np.max(pnl_array_logreg)]\n",
    "y_coordinates_catboost = [np.max(pnl_array_catboost), np.max(pnl_array_catboost)]\n",
    "\n",
    "\n",
    "plt.plot(x_coordinates, y_coordinates_logreg, 'k')\n",
    "plt.plot(x_coordinates, y_coordinates_catboost, 'k')\n",
    "\n",
    "plt.xlabel('Порог отсечения', fontsize=16)\n",
    "plt.ylabel('Ожидаемая прибыль', fontsize=16)\n",
    "plt.legend(fontsize = 16)"
   ]
  }
 ],
 "metadata": {
  "kernelspec": {
   "display_name": "risks",
   "language": "python",
   "name": "risks"
  },
  "language_info": {
   "codemirror_mode": {
    "name": "ipython",
    "version": 3
   },
   "file_extension": ".py",
   "mimetype": "text/x-python",
   "name": "python",
   "nbconvert_exporter": "python",
   "pygments_lexer": "ipython3",
   "version": "3.7.7"
  }
 },
 "nbformat": 4,
 "nbformat_minor": 4
}
